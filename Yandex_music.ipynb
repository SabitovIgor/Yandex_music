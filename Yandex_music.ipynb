{
 "cells": [
  {
   "cell_type": "markdown",
   "metadata": {
    "id": "E0vqbgi9ay0H"
   },
   "source": [
    "# Яндекс.Музыка"
   ]
  },
  {
   "cell_type": "markdown",
   "metadata": {
    "id": "VUC88oWjTJw2"
   },
   "source": [
    "Сравнение Москвы и Петербурга окружено мифами. Например:\n",
    " * Москва — мегаполис, подчинённый жёсткому ритму рабочей недели;\n",
    " * Петербург — культурная столица, со своими вкусами.\n",
    "\n",
    "На данных Яндекс.Музыки вы сравните поведение пользователей двух столиц.\n",
    "\n",
    "**Цель исследования** — проверьте три гипотезы:\n",
    "1. Активность пользователей зависит от дня недели. Причём в Москве и Петербурге это проявляется по-разному.\n",
    "2. В понедельник утром в Москве преобладают одни жанры, а в Петербурге — другие. Так же и вечером пятницы преобладают разные жанры — в зависимости от города. \n",
    "3. Москва и Петербург предпочитают разные жанры музыки. В Москве чаще слушают поп-музыку, в Петербурге — русский рэп.\n",
    "\n",
    "**Ход исследования**\n",
    "\n",
    "Данные о поведении пользователей вы получите из файла `yandex_music_project.csv`. О качестве данных ничего не известно. Поэтому перед проверкой гипотез понадобится обзор данных. \n",
    "\n",
    "Вы проверите данные на ошибки и оцените их влияние на исследование. Затем, на этапе предобработки вы поищете возможность исправить самые критичные ошибки данных.\n",
    " \n",
    "Таким образом, исследование пройдёт в три этапа:\n",
    " 1. Обзор данных.\n",
    " 2. Предобработка данных.\n",
    " 3. Проверка гипотез.\n",
    "\n"
   ]
  },
  {
   "cell_type": "markdown",
   "metadata": {
    "id": "Ml1hmfXC_Zcs"
   },
   "source": [
    "## Обзор данных\n",
    "\n",
    "Составьте первое представление о данных Яндекс.Музыки.\n",
    "\n",
    "\n"
   ]
  },
  {
   "cell_type": "markdown",
   "metadata": {
    "id": "57eAOGIz_Zcs"
   },
   "source": [
    "Основной инструмент аналитика — `pandas`. Импортируйте эту библиотеку."
   ]
  },
  {
   "cell_type": "code",
   "execution_count": 1,
   "metadata": {
    "id": "AXN7PHPN_Zcs"
   },
   "outputs": [],
   "source": [
    "import pandas as pd # импорт библиотеки pandas"
   ]
  },
  {
   "cell_type": "markdown",
   "metadata": {
    "id": "SG23P8tt_Zcs"
   },
   "source": [
    "Прочитайте файл `yandex_music_project.csv` из папки `/datasets` и сохраните его в переменной `df`:"
   ]
  },
  {
   "cell_type": "code",
   "execution_count": 2,
   "metadata": {
    "id": "fFVu7vqh_Zct"
   },
   "outputs": [],
   "source": [
    "df = pd.read_csv('/datasets/yandex_music_project.csv') # чтение файла с данными и сохранение в df"
   ]
  },
  {
   "cell_type": "markdown",
   "metadata": {
    "id": "rDoOMd3uTqnZ"
   },
   "source": [
    "Выведите на экран первые десять строк таблицы:"
   ]
  },
  {
   "cell_type": "code",
   "execution_count": 3,
   "metadata": {
    "id": "oWTVX3gW_Zct"
   },
   "outputs": [
    {
     "data": {
      "text/html": [
       "<div>\n",
       "<style scoped>\n",
       "    .dataframe tbody tr th:only-of-type {\n",
       "        vertical-align: middle;\n",
       "    }\n",
       "\n",
       "    .dataframe tbody tr th {\n",
       "        vertical-align: top;\n",
       "    }\n",
       "\n",
       "    .dataframe thead th {\n",
       "        text-align: right;\n",
       "    }\n",
       "</style>\n",
       "<table border=\"1\" class=\"dataframe\">\n",
       "  <thead>\n",
       "    <tr style=\"text-align: right;\">\n",
       "      <th></th>\n",
       "      <th>userID</th>\n",
       "      <th>Track</th>\n",
       "      <th>artist</th>\n",
       "      <th>genre</th>\n",
       "      <th>City</th>\n",
       "      <th>time</th>\n",
       "      <th>Day</th>\n",
       "    </tr>\n",
       "  </thead>\n",
       "  <tbody>\n",
       "    <tr>\n",
       "      <td>0</td>\n",
       "      <td>FFB692EC</td>\n",
       "      <td>Kamigata To Boots</td>\n",
       "      <td>The Mass Missile</td>\n",
       "      <td>rock</td>\n",
       "      <td>Saint-Petersburg</td>\n",
       "      <td>20:28:33</td>\n",
       "      <td>Wednesday</td>\n",
       "    </tr>\n",
       "    <tr>\n",
       "      <td>1</td>\n",
       "      <td>55204538</td>\n",
       "      <td>Delayed Because of Accident</td>\n",
       "      <td>Andreas Rönnberg</td>\n",
       "      <td>rock</td>\n",
       "      <td>Moscow</td>\n",
       "      <td>14:07:09</td>\n",
       "      <td>Friday</td>\n",
       "    </tr>\n",
       "    <tr>\n",
       "      <td>2</td>\n",
       "      <td>20EC38</td>\n",
       "      <td>Funiculì funiculà</td>\n",
       "      <td>Mario Lanza</td>\n",
       "      <td>pop</td>\n",
       "      <td>Saint-Petersburg</td>\n",
       "      <td>20:58:07</td>\n",
       "      <td>Wednesday</td>\n",
       "    </tr>\n",
       "    <tr>\n",
       "      <td>3</td>\n",
       "      <td>A3DD03C9</td>\n",
       "      <td>Dragons in the Sunset</td>\n",
       "      <td>Fire + Ice</td>\n",
       "      <td>folk</td>\n",
       "      <td>Saint-Petersburg</td>\n",
       "      <td>08:37:09</td>\n",
       "      <td>Monday</td>\n",
       "    </tr>\n",
       "    <tr>\n",
       "      <td>4</td>\n",
       "      <td>E2DC1FAE</td>\n",
       "      <td>Soul People</td>\n",
       "      <td>Space Echo</td>\n",
       "      <td>dance</td>\n",
       "      <td>Moscow</td>\n",
       "      <td>08:34:34</td>\n",
       "      <td>Monday</td>\n",
       "    </tr>\n",
       "    <tr>\n",
       "      <td>5</td>\n",
       "      <td>842029A1</td>\n",
       "      <td>Преданная</td>\n",
       "      <td>IMPERVTOR</td>\n",
       "      <td>rusrap</td>\n",
       "      <td>Saint-Petersburg</td>\n",
       "      <td>13:09:41</td>\n",
       "      <td>Friday</td>\n",
       "    </tr>\n",
       "    <tr>\n",
       "      <td>6</td>\n",
       "      <td>4CB90AA5</td>\n",
       "      <td>True</td>\n",
       "      <td>Roman Messer</td>\n",
       "      <td>dance</td>\n",
       "      <td>Moscow</td>\n",
       "      <td>13:00:07</td>\n",
       "      <td>Wednesday</td>\n",
       "    </tr>\n",
       "    <tr>\n",
       "      <td>7</td>\n",
       "      <td>F03E1C1F</td>\n",
       "      <td>Feeling This Way</td>\n",
       "      <td>Polina Griffith</td>\n",
       "      <td>dance</td>\n",
       "      <td>Moscow</td>\n",
       "      <td>20:47:49</td>\n",
       "      <td>Wednesday</td>\n",
       "    </tr>\n",
       "    <tr>\n",
       "      <td>8</td>\n",
       "      <td>8FA1D3BE</td>\n",
       "      <td>И вновь продолжается бой</td>\n",
       "      <td>NaN</td>\n",
       "      <td>ruspop</td>\n",
       "      <td>Moscow</td>\n",
       "      <td>09:17:40</td>\n",
       "      <td>Friday</td>\n",
       "    </tr>\n",
       "    <tr>\n",
       "      <td>9</td>\n",
       "      <td>E772D5C0</td>\n",
       "      <td>Pessimist</td>\n",
       "      <td>NaN</td>\n",
       "      <td>dance</td>\n",
       "      <td>Saint-Petersburg</td>\n",
       "      <td>21:20:49</td>\n",
       "      <td>Wednesday</td>\n",
       "    </tr>\n",
       "  </tbody>\n",
       "</table>\n",
       "</div>"
      ],
      "text/plain": [
       "     userID                        Track            artist   genre  \\\n",
       "0  FFB692EC            Kamigata To Boots  The Mass Missile    rock   \n",
       "1  55204538  Delayed Because of Accident  Andreas Rönnberg    rock   \n",
       "2    20EC38            Funiculì funiculà       Mario Lanza     pop   \n",
       "3  A3DD03C9        Dragons in the Sunset        Fire + Ice    folk   \n",
       "4  E2DC1FAE                  Soul People        Space Echo   dance   \n",
       "5  842029A1                    Преданная         IMPERVTOR  rusrap   \n",
       "6  4CB90AA5                         True      Roman Messer   dance   \n",
       "7  F03E1C1F             Feeling This Way   Polina Griffith   dance   \n",
       "8  8FA1D3BE     И вновь продолжается бой               NaN  ruspop   \n",
       "9  E772D5C0                    Pessimist               NaN   dance   \n",
       "\n",
       "             City        time        Day  \n",
       "0  Saint-Petersburg  20:28:33  Wednesday  \n",
       "1            Moscow  14:07:09     Friday  \n",
       "2  Saint-Petersburg  20:58:07  Wednesday  \n",
       "3  Saint-Petersburg  08:37:09     Monday  \n",
       "4            Moscow  08:34:34     Monday  \n",
       "5  Saint-Petersburg  13:09:41     Friday  \n",
       "6            Moscow  13:00:07  Wednesday  \n",
       "7            Moscow  20:47:49  Wednesday  \n",
       "8            Moscow  09:17:40     Friday  \n",
       "9  Saint-Petersburg  21:20:49  Wednesday  "
      ]
     },
     "execution_count": 3,
     "metadata": {},
     "output_type": "execute_result"
    }
   ],
   "source": [
    "df.head(10) # получение первых 10 строк таблицы df"
   ]
  },
  {
   "cell_type": "markdown",
   "metadata": {
    "id": "EO73Kwic_Zct"
   },
   "source": [
    "Одной командой получить общую информацию о таблице:"
   ]
  },
  {
   "cell_type": "code",
   "execution_count": 4,
   "metadata": {
    "id": "DSf2kIb-_Zct"
   },
   "outputs": [
    {
     "name": "stdout",
     "output_type": "stream",
     "text": [
      "<class 'pandas.core.frame.DataFrame'>\n",
      "RangeIndex: 65079 entries, 0 to 65078\n",
      "Data columns (total 7 columns):\n",
      "  userID    65079 non-null object\n",
      "Track       63848 non-null object\n",
      "artist      57876 non-null object\n",
      "genre       63881 non-null object\n",
      "  City      65079 non-null object\n",
      "time        65079 non-null object\n",
      "Day         65079 non-null object\n",
      "dtypes: object(7)\n",
      "memory usage: 3.5+ MB\n"
     ]
    }
   ],
   "source": [
    "df.info() # получение общей информации о данных в таблице df"
   ]
  },
  {
   "cell_type": "markdown",
   "metadata": {
    "id": "TaQ2Iwbr_Zct"
   },
   "source": [
    "Итак, в таблице семь столбцов. Тип данных во всех столбцах — `object`.\n",
    "\n",
    "Согласно документации к данным:\n",
    "* `userID` — идентификатор пользователя;\n",
    "* `Track` — название трека;  \n",
    "* `artist` — имя исполнителя;\n",
    "* `genre` — название жанра;\n",
    "* `City` — город пользователя;\n",
    "* `time` — время начала прослушивания;\n",
    "* `Day` — день недели.\n",
    "\n",
    "В названиях колонок видны три нарушения стиля:\n",
    "1. Строчные буквы сочетаются с прописными.\n",
    "2. Встречаются пробелы.\n",
    "3. Нет змеиного регистра.\n",
    "\n",
    "\n",
    "\n",
    "Количество значений в столбцах различается. Значит, в данных есть пропущенные значения.\n"
   ]
  },
  {
   "cell_type": "markdown",
   "metadata": {
    "id": "MCB6-dXG_Zct"
   },
   "source": [
    "**Выводы**\n",
    "\n",
    "В каждой строке таблицы — данные о прослушанном треке. Часть колонок описывает саму композицию: название, исполнителя и жанр. Остальные данные рассказывают о пользователе: из какого он города, когда он слушал музыку. \n",
    "\n",
    "Предварительно можно утверждать, что, данных достаточно для проверки гипотез. Но встречаются пропуски в данных, а в названиях колонок — расхождения с хорошим стилем.\n",
    "\n",
    "Чтобы двигаться дальше, нужно устранить проблемы в данных."
   ]
  },
  {
   "cell_type": "markdown",
   "metadata": {
    "id": "SjYF6Ub9_Zct"
   },
   "source": [
    "## Предобработка данных\n",
    "Исправьте стиль в заголовках столбцов, исключите пропуски. Затем проверьте данные на дубликаты."
   ]
  },
  {
   "cell_type": "markdown",
   "metadata": {
    "id": "dIaKXr29_Zct"
   },
   "source": [
    "### Стиль заголовков\n",
    "Выведите на экран названия столбцов:"
   ]
  },
  {
   "cell_type": "code",
   "execution_count": 5,
   "metadata": {
    "id": "oKOTdF_Q_Zct"
   },
   "outputs": [
    {
     "data": {
      "text/plain": [
       "Index(['  userID', 'Track', 'artist', 'genre', '  City  ', 'time', 'Day'], dtype='object')"
      ]
     },
     "execution_count": 5,
     "metadata": {},
     "output_type": "execute_result"
    }
   ],
   "source": [
    "df.columns # перечень названий столбцов таблицы df"
   ]
  },
  {
   "cell_type": "markdown",
   "metadata": {
    "id": "zj5534cv_Zct"
   },
   "source": [
    "Приведите названия в соответствие с хорошим стилем:\n",
    "* несколько слов в названии запишите в «змеином_регистре»,\n",
    "* все символы сделайте строчными,\n",
    "* устраните пробелы.\n",
    "\n",
    "Для этого переименуйте колонки так:\n",
    "* `'  userID'` → `'user_id'`;\n",
    "* `'Track'` → `'track'`;\n",
    "* `'  City  '` → `'city'`;\n",
    "* `'Day'` → `'day'`."
   ]
  },
  {
   "cell_type": "code",
   "execution_count": 6,
   "metadata": {
    "id": "ISlFqs5y_Zct"
   },
   "outputs": [],
   "source": [
    "df = df.rename(columns={'  userID': 'user_id', 'Track': 'track', '  City  ': 'city', 'Day': 'day',}) # переименование столбцов"
   ]
  },
  {
   "cell_type": "markdown",
   "metadata": {
    "id": "1dqbh00J_Zct"
   },
   "source": [
    "Проверьте результат. Для этого ещё раз выведите на экран названия столбцов:"
   ]
  },
  {
   "cell_type": "code",
   "execution_count": 7,
   "metadata": {
    "id": "d4NOAmTW_Zct"
   },
   "outputs": [
    {
     "data": {
      "text/plain": [
       "Index(['user_id', 'track', 'artist', 'genre', 'city', 'time', 'day'], dtype='object')"
      ]
     },
     "execution_count": 7,
     "metadata": {},
     "output_type": "execute_result"
    }
   ],
   "source": [
    "df.columns # проверка результатов - перечень названий столбцов"
   ]
  },
  {
   "cell_type": "markdown",
   "metadata": {
    "id": "5ISfbcfY_Zct"
   },
   "source": [
    "### Пропуски значений\n",
    "Сначала посчитайте, сколько в таблице пропущенных значений. Для этого достаточно двух методов `pandas`:"
   ]
  },
  {
   "cell_type": "code",
   "execution_count": 8,
   "metadata": {
    "id": "RskX29qr_Zct"
   },
   "outputs": [
    {
     "data": {
      "text/plain": [
       "user_id       0\n",
       "track      1231\n",
       "artist     7203\n",
       "genre      1198\n",
       "city          0\n",
       "time          0\n",
       "day           0\n",
       "dtype: int64"
      ]
     },
     "execution_count": 8,
     "metadata": {},
     "output_type": "execute_result"
    }
   ],
   "source": [
    "df.isna().sum() # подсчёт пропусков"
   ]
  },
  {
   "cell_type": "markdown",
   "metadata": {
    "id": "qubhgnlO_Zct"
   },
   "source": [
    "Не все пропущенные значения влияют на исследование. Так в `track` и `artist` пропуски не важны для вашей работы. Достаточно заменить их явными обозначениями.\n",
    "\n",
    "Но пропуски в `genre` могут помешать сравнению музыкальных вкусов в Москве и Санкт-Петербурге. На практике было бы правильно установить причину пропусков и восстановить данные. Такой возможности нет в учебном проекте. Придётся:\n",
    "* заполнить и эти пропуски явными обозначениями,\n",
    "* оценить, насколько они повредят расчётам. "
   ]
  },
  {
   "cell_type": "markdown",
   "metadata": {
    "id": "fSv2laPA_Zct"
   },
   "source": [
    "Замените пропущенные значения в столбцах `track`, `artist` и `genre` на строку `'unknown'`. Для этого создайте список `columns_to_replace`, переберите его элементы циклом `for` и для каждого столбца выполните замену пропущенных значений:"
   ]
  },
  {
   "cell_type": "code",
   "execution_count": 9,
   "metadata": {
    "id": "KplB5qWs_Zct"
   },
   "outputs": [],
   "source": [
    "columns_to_replace = ['track', 'artist', 'genre']\n",
    "for column in columns_to_replace:\n",
    "    df[column] = df[column].fillna('unknown')# перебор названий столбцов в цикле и замена пропущенных значений на 'unknown'"
   ]
  },
  {
   "cell_type": "markdown",
   "metadata": {
    "id": "Ilsm-MZo_Zct"
   },
   "source": [
    "Убедитесь, что в таблице не осталось пропусков. Для этого ещё раз посчитайте пропущенные значения."
   ]
  },
  {
   "cell_type": "code",
   "execution_count": 10,
   "metadata": {
    "id": "Tq4nYRX4_Zct"
   },
   "outputs": [
    {
     "data": {
      "text/plain": [
       "user_id    0\n",
       "track      0\n",
       "artist     0\n",
       "genre      0\n",
       "city       0\n",
       "time       0\n",
       "day        0\n",
       "dtype: int64"
      ]
     },
     "execution_count": 10,
     "metadata": {},
     "output_type": "execute_result"
    }
   ],
   "source": [
    "df.isna().sum() # подсчёт пропусков"
   ]
  },
  {
   "cell_type": "markdown",
   "metadata": {
    "id": "BWKRtBJ3_Zct"
   },
   "source": [
    "### Дубликаты\n",
    "Посчитайте явные дубликаты в таблице одной командой:"
   ]
  },
  {
   "cell_type": "code",
   "execution_count": 11,
   "metadata": {
    "id": "36eES_S0_Zct"
   },
   "outputs": [
    {
     "data": {
      "text/plain": [
       "3826"
      ]
     },
     "execution_count": 11,
     "metadata": {},
     "output_type": "execute_result"
    }
   ],
   "source": [
    "df.duplicated().sum() # подсчёт явных дубликатов"
   ]
  },
  {
   "cell_type": "markdown",
   "metadata": {
    "id": "Ot25h6XR_Zct"
   },
   "source": [
    "Вызовите специальный метод `pandas`, чтобы удалить явные дубликаты:"
   ]
  },
  {
   "cell_type": "code",
   "execution_count": 12,
   "metadata": {
    "id": "exFHq6tt_Zct"
   },
   "outputs": [],
   "source": [
    "df = df.drop_duplicates().reset_index(drop=True) # удаление явных дубликатов (с удалением старых индексов и формированием новых)"
   ]
  },
  {
   "cell_type": "markdown",
   "metadata": {
    "id": "Im2YwBEG_Zct"
   },
   "source": [
    "Ещё раз посчитайте явные дубликаты в таблице — убедитесь, что полностью от них избавились:"
   ]
  },
  {
   "cell_type": "code",
   "execution_count": 13,
   "metadata": {
    "id": "-8PuNWQ0_Zct"
   },
   "outputs": [
    {
     "data": {
      "text/plain": [
       "0"
      ]
     },
     "execution_count": 13,
     "metadata": {},
     "output_type": "execute_result"
    }
   ],
   "source": [
    "df.duplicated().sum() # проверка на отсутствие дубликатов"
   ]
  },
  {
   "cell_type": "markdown",
   "metadata": {
    "id": "QlFBsxAr_Zct"
   },
   "source": [
    "Теперь избавьтесь от неявных дубликатов в колонке `genre`. Например, название одного и того же жанра может быть записано немного по-разному. Такие ошибки тоже повлияют на результат исследования."
   ]
  },
  {
   "cell_type": "markdown",
   "metadata": {
    "id": "eSjWwsOh_Zct"
   },
   "source": [
    "Выведите на экран список уникальных названий жанров, отсортированный в алфавитном порядке. Для этого:\n",
    "* извлеките нужный столбец датафрейма, \n",
    "* примените к нему метод сортировки,\n",
    "* для отсортированного столбца вызовите метод, который вернёт уникальные значения из столбца."
   ]
  },
  {
   "cell_type": "code",
   "execution_count": 14,
   "metadata": {
    "id": "JIUcqzZN_Zct"
   },
   "outputs": [
    {
     "data": {
      "text/plain": [
       "array(['acid', 'acoustic', 'action', 'adult', 'africa', 'afrikaans',\n",
       "       'alternative', 'alternativepunk', 'ambient', 'americana',\n",
       "       'animated', 'anime', 'arabesk', 'arabic', 'arena',\n",
       "       'argentinetango', 'art', 'audiobook', 'author', 'avantgarde',\n",
       "       'axé', 'baile', 'balkan', 'beats', 'bigroom', 'black', 'bluegrass',\n",
       "       'blues', 'bollywood', 'bossa', 'brazilian', 'breakbeat', 'breaks',\n",
       "       'broadway', 'cantautori', 'cantopop', 'canzone', 'caribbean',\n",
       "       'caucasian', 'celtic', 'chamber', 'chanson', 'children', 'chill',\n",
       "       'chinese', 'choral', 'christian', 'christmas', 'classical',\n",
       "       'classicmetal', 'club', 'colombian', 'comedy', 'conjazz',\n",
       "       'contemporary', 'country', 'cuban', 'dance', 'dancehall',\n",
       "       'dancepop', 'dark', 'death', 'deep', 'deutschrock', 'deutschspr',\n",
       "       'dirty', 'disco', 'dnb', 'documentary', 'downbeat', 'downtempo',\n",
       "       'drum', 'dub', 'dubstep', 'eastern', 'easy', 'electronic',\n",
       "       'electropop', 'emo', 'entehno', 'epicmetal', 'estrada', 'ethnic',\n",
       "       'eurofolk', 'european', 'experimental', 'extrememetal', 'fado',\n",
       "       'fairytail', 'film', 'fitness', 'flamenco', 'folk', 'folklore',\n",
       "       'folkmetal', 'folkrock', 'folktronica', 'forró', 'frankreich',\n",
       "       'französisch', 'french', 'funk', 'future', 'gangsta', 'garage',\n",
       "       'german', 'ghazal', 'gitarre', 'glitch', 'gospel', 'gothic',\n",
       "       'grime', 'grunge', 'gypsy', 'handsup', \"hard'n'heavy\", 'hardcore',\n",
       "       'hardstyle', 'hardtechno', 'hip', 'hip-hop', 'hiphop',\n",
       "       'historisch', 'holiday', 'hop', 'horror', 'house', 'hymn', 'idm',\n",
       "       'independent', 'indian', 'indie', 'indipop', 'industrial',\n",
       "       'inspirational', 'instrumental', 'international', 'irish', 'jam',\n",
       "       'japanese', 'jazz', 'jewish', 'jpop', 'jungle', 'k-pop',\n",
       "       'karadeniz', 'karaoke', 'kayokyoku', 'korean', 'laiko', 'latin',\n",
       "       'latino', 'leftfield', 'local', 'lounge', 'loungeelectronic',\n",
       "       'lovers', 'malaysian', 'mandopop', 'marschmusik', 'meditative',\n",
       "       'mediterranean', 'melodic', 'metal', 'metalcore', 'mexican',\n",
       "       'middle', 'minimal', 'miscellaneous', 'modern', 'mood', 'mpb',\n",
       "       'muslim', 'native', 'neoklassik', 'neue', 'new', 'newage',\n",
       "       'newwave', 'nu', 'nujazz', 'numetal', 'oceania', 'old', 'opera',\n",
       "       'orchestral', 'other', 'piano', 'podcasts', 'pop', 'popdance',\n",
       "       'popelectronic', 'popeurodance', 'poprussian', 'post',\n",
       "       'posthardcore', 'postrock', 'power', 'progmetal', 'progressive',\n",
       "       'psychedelic', 'punjabi', 'punk', 'quebecois', 'ragga', 'ram',\n",
       "       'rancheras', 'rap', 'rave', 'reggae', 'reggaeton', 'regional',\n",
       "       'relax', 'religious', 'retro', 'rhythm', 'rnb', 'rnr', 'rock',\n",
       "       'rockabilly', 'rockalternative', 'rockindie', 'rockother',\n",
       "       'romance', 'roots', 'ruspop', 'rusrap', 'rusrock', 'russian',\n",
       "       'salsa', 'samba', 'scenic', 'schlager', 'self', 'sertanejo',\n",
       "       'shanson', 'shoegazing', 'showtunes', 'singer', 'ska', 'skarock',\n",
       "       'slow', 'smooth', 'soft', 'soul', 'soulful', 'sound', 'soundtrack',\n",
       "       'southern', 'specialty', 'speech', 'spiritual', 'sport',\n",
       "       'stonerrock', 'surf', 'swing', 'synthpop', 'synthrock',\n",
       "       'sängerportrait', 'tango', 'tanzorchester', 'taraftar', 'tatar',\n",
       "       'tech', 'techno', 'teen', 'thrash', 'top', 'traditional',\n",
       "       'tradjazz', 'trance', 'tribal', 'trip', 'triphop', 'tropical',\n",
       "       'türk', 'türkçe', 'ukrrock', 'unknown', 'urban', 'uzbek',\n",
       "       'variété', 'vi', 'videogame', 'vocal', 'western', 'world',\n",
       "       'worldbeat', 'ïîï', 'электроника'], dtype=object)"
      ]
     },
     "execution_count": 14,
     "metadata": {},
     "output_type": "execute_result"
    }
   ],
   "source": [
    "df['genre'].sort_values().unique() # Просмотр уникальных названий жанров"
   ]
  },
  {
   "cell_type": "markdown",
   "metadata": {
    "id": "qej-Qmuo_Zct"
   },
   "source": [
    "Просмотрите список и найдите неявные дубликаты названия `hiphop`. Это могут быть названия с ошибками или альтернативные названия того же жанра.\n",
    "\n",
    "Вы увидите следующие неявные дубликаты:\n",
    "* *hip*,\n",
    "* *hop*,\n",
    "* *hip-hop*.\n",
    "\n",
    "Чтобы очистить от них таблицу, напишите функцию `replace_wrong_genres()` с двумя параметрами: \n",
    "* `wrong_genres` — список дубликатов,\n",
    "* `correct_genre` — строка с правильным значением.\n",
    "\n",
    "Функция должна исправить колонку `genre` в таблице `df`: заменить каждое значение из списка `wrong_genres` на значение из `correct_genre`."
   ]
  },
  {
   "cell_type": "code",
   "execution_count": 15,
   "metadata": {
    "id": "ErNDkmns_Zct"
   },
   "outputs": [],
   "source": [
    "def replace_wrong_genres(wrong_genres, correct_genre): # на вход функции подаются список неправильных значений и строка с правильным значением\n",
    "    for wrong_genre in wrong_genres: # перебираем неправильные имена\n",
    "        df['genre'] = df['genre'].replace(wrong_genre, correct_genre) # и для каждого неправильного имени вызываем метод replace()"
   ]
  },
  {
   "cell_type": "markdown",
   "metadata": {
    "id": "aDoBJxbA_Zct"
   },
   "source": [
    "Вызовите `replace_wrong_genres()` и передайте ей такие аргументы, чтобы она устранила неявные дубликаты: вместо `hip`, `hop` и `hip-hop` в таблице должно быть значение `hiphop`:"
   ]
  },
  {
   "cell_type": "code",
   "execution_count": 16,
   "metadata": {
    "id": "YN5i2hpmSo09"
   },
   "outputs": [],
   "source": [
    "duplicates = ['hip', 'hop', 'hip-hop'] # список неправильных жанров\n",
    "correct = 'hiphop' # правильное жанр\n",
    "replace_wrong_genres(duplicates, correct) # вызов функции, replace() внутри будет вызван 3 раза"
   ]
  },
  {
   "cell_type": "markdown",
   "metadata": {
    "id": "zQKF16_RG15m"
   },
   "source": [
    "Проверьте, что заменили неправильные названия:\n",
    "\n",
    "*   hip\n",
    "*   hop\n",
    "*   hip-hop\n",
    "\n",
    "Выведите отсортированный список уникальных значений столбца `genre`:"
   ]
  },
  {
   "cell_type": "code",
   "execution_count": 17,
   "metadata": {
    "id": "wvixALnFG15m"
   },
   "outputs": [
    {
     "data": {
      "text/plain": [
       "array(['acid', 'acoustic', 'action', 'adult', 'africa', 'afrikaans',\n",
       "       'alternative', 'alternativepunk', 'ambient', 'americana',\n",
       "       'animated', 'anime', 'arabesk', 'arabic', 'arena',\n",
       "       'argentinetango', 'art', 'audiobook', 'author', 'avantgarde',\n",
       "       'axé', 'baile', 'balkan', 'beats', 'bigroom', 'black', 'bluegrass',\n",
       "       'blues', 'bollywood', 'bossa', 'brazilian', 'breakbeat', 'breaks',\n",
       "       'broadway', 'cantautori', 'cantopop', 'canzone', 'caribbean',\n",
       "       'caucasian', 'celtic', 'chamber', 'chanson', 'children', 'chill',\n",
       "       'chinese', 'choral', 'christian', 'christmas', 'classical',\n",
       "       'classicmetal', 'club', 'colombian', 'comedy', 'conjazz',\n",
       "       'contemporary', 'country', 'cuban', 'dance', 'dancehall',\n",
       "       'dancepop', 'dark', 'death', 'deep', 'deutschrock', 'deutschspr',\n",
       "       'dirty', 'disco', 'dnb', 'documentary', 'downbeat', 'downtempo',\n",
       "       'drum', 'dub', 'dubstep', 'eastern', 'easy', 'electronic',\n",
       "       'electropop', 'emo', 'entehno', 'epicmetal', 'estrada', 'ethnic',\n",
       "       'eurofolk', 'european', 'experimental', 'extrememetal', 'fado',\n",
       "       'fairytail', 'film', 'fitness', 'flamenco', 'folk', 'folklore',\n",
       "       'folkmetal', 'folkrock', 'folktronica', 'forró', 'frankreich',\n",
       "       'französisch', 'french', 'funk', 'future', 'gangsta', 'garage',\n",
       "       'german', 'ghazal', 'gitarre', 'glitch', 'gospel', 'gothic',\n",
       "       'grime', 'grunge', 'gypsy', 'handsup', \"hard'n'heavy\", 'hardcore',\n",
       "       'hardstyle', 'hardtechno', 'hiphop', 'historisch', 'holiday',\n",
       "       'horror', 'house', 'hymn', 'idm', 'independent', 'indian', 'indie',\n",
       "       'indipop', 'industrial', 'inspirational', 'instrumental',\n",
       "       'international', 'irish', 'jam', 'japanese', 'jazz', 'jewish',\n",
       "       'jpop', 'jungle', 'k-pop', 'karadeniz', 'karaoke', 'kayokyoku',\n",
       "       'korean', 'laiko', 'latin', 'latino', 'leftfield', 'local',\n",
       "       'lounge', 'loungeelectronic', 'lovers', 'malaysian', 'mandopop',\n",
       "       'marschmusik', 'meditative', 'mediterranean', 'melodic', 'metal',\n",
       "       'metalcore', 'mexican', 'middle', 'minimal', 'miscellaneous',\n",
       "       'modern', 'mood', 'mpb', 'muslim', 'native', 'neoklassik', 'neue',\n",
       "       'new', 'newage', 'newwave', 'nu', 'nujazz', 'numetal', 'oceania',\n",
       "       'old', 'opera', 'orchestral', 'other', 'piano', 'podcasts', 'pop',\n",
       "       'popdance', 'popelectronic', 'popeurodance', 'poprussian', 'post',\n",
       "       'posthardcore', 'postrock', 'power', 'progmetal', 'progressive',\n",
       "       'psychedelic', 'punjabi', 'punk', 'quebecois', 'ragga', 'ram',\n",
       "       'rancheras', 'rap', 'rave', 'reggae', 'reggaeton', 'regional',\n",
       "       'relax', 'religious', 'retro', 'rhythm', 'rnb', 'rnr', 'rock',\n",
       "       'rockabilly', 'rockalternative', 'rockindie', 'rockother',\n",
       "       'romance', 'roots', 'ruspop', 'rusrap', 'rusrock', 'russian',\n",
       "       'salsa', 'samba', 'scenic', 'schlager', 'self', 'sertanejo',\n",
       "       'shanson', 'shoegazing', 'showtunes', 'singer', 'ska', 'skarock',\n",
       "       'slow', 'smooth', 'soft', 'soul', 'soulful', 'sound', 'soundtrack',\n",
       "       'southern', 'specialty', 'speech', 'spiritual', 'sport',\n",
       "       'stonerrock', 'surf', 'swing', 'synthpop', 'synthrock',\n",
       "       'sängerportrait', 'tango', 'tanzorchester', 'taraftar', 'tatar',\n",
       "       'tech', 'techno', 'teen', 'thrash', 'top', 'traditional',\n",
       "       'tradjazz', 'trance', 'tribal', 'trip', 'triphop', 'tropical',\n",
       "       'türk', 'türkçe', 'ukrrock', 'unknown', 'urban', 'uzbek',\n",
       "       'variété', 'vi', 'videogame', 'vocal', 'western', 'world',\n",
       "       'worldbeat', 'ïîï', 'электроника'], dtype=object)"
      ]
     },
     "execution_count": 17,
     "metadata": {},
     "output_type": "execute_result"
    }
   ],
   "source": [
    "df['genre'].sort_values().unique()  # Проверка на неявные дубликаты"
   ]
  },
  {
   "cell_type": "markdown",
   "metadata": {
    "id": "jz6a9-7HQUDd"
   },
   "source": [
    "**Выводы**\n",
    "\n",
    "Предобработка обнаружила три проблемы в данных:\n",
    "\n",
    "- нарушения в стиле заголовков,\n",
    "- пропущенные значения,\n",
    "- дубликаты — явные и неявные.\n",
    "\n",
    "Вы исправили заголовки, чтобы упростить работу с таблицей. Без дубликатов исследование станет более точным.\n",
    "\n",
    "Пропущенные значения вы заменили на `'unknown'`. Ещё предстоит увидеть, не повредят ли исследованию пропуски в колонке `genre`.\n",
    "\n",
    "Теперь можно перейти к проверке гипотез. "
   ]
  },
  {
   "cell_type": "markdown",
   "metadata": {
    "id": "WttZHXH0SqKk"
   },
   "source": [
    "## Проверка гипотез"
   ]
  },
  {
   "cell_type": "markdown",
   "metadata": {
    "id": "Im936VVi_Zcu"
   },
   "source": [
    "### Сравнение поведения пользователей двух столиц"
   ]
  },
  {
   "cell_type": "markdown",
   "metadata": {
    "id": "nwt_MuaL_Zcu"
   },
   "source": [
    "Первая гипотеза утверждает, что пользователи по-разному слушают музыку в Москве и Санкт-Петербурге. Проверьте это предположение по данным о трёх днях недели — понедельнике, среде и пятнице. Для этого:\n",
    "\n",
    "* Разделите пользователей Москвы и Санкт-Петербурга\n",
    "* Сравните, сколько треков послушала каждая группа пользователей в понедельник, среду и пятницу.\n"
   ]
  },
  {
   "cell_type": "markdown",
   "metadata": {
    "id": "8Dw_YMmT_Zcu"
   },
   "source": [
    "Для тренировки сначала выполните каждый из расчётов по отдельности. \n",
    "\n",
    "Оцените активность пользователей в каждом городе. Сгруппируйте данные по городу и посчитайте прослушивания в каждой группе.\n",
    "\n"
   ]
  },
  {
   "cell_type": "code",
   "execution_count": 18,
   "metadata": {
    "id": "0_Qs96oh_Zcu"
   },
   "outputs": [
    {
     "data": {
      "text/plain": [
       "city\n",
       "Moscow              42741\n",
       "Saint-Petersburg    18512\n",
       "Name: user_id, dtype: int64"
      ]
     },
     "execution_count": 18,
     "metadata": {},
     "output_type": "execute_result"
    }
   ],
   "source": [
    "df.groupby('city')['user_id'].count()   # Подсчёт прослушиваний в городах\n"
   ]
  },
  {
   "cell_type": "markdown",
   "metadata": {
    "id": "dzli3w8o_Zcu"
   },
   "source": [
    "В Москве прослушиваний больше, чем в Петербурге. Из этого не следует, что московские пользователи чаще слушают музыку. Просто самих пользователей в Москве больше.\n",
    "\n",
    "Теперь сгруппируйте данные по дню недели и подсчитайте прослушивания в понедельник, среду и пятницу. Учтите, что в данных есть информация только о прослушиваниях только за эти дни.\n"
   ]
  },
  {
   "cell_type": "code",
   "execution_count": 19,
   "metadata": {
    "id": "uZMKjiJz_Zcu"
   },
   "outputs": [
    {
     "data": {
      "text/plain": [
       "day\n",
       "Friday       21840\n",
       "Monday       21354\n",
       "Wednesday    18059\n",
       "Name: city, dtype: int64"
      ]
     },
     "execution_count": 19,
     "metadata": {},
     "output_type": "execute_result"
    }
   ],
   "source": [
    "df.groupby('day')['city'].count()# Подсчёт прослушиваний в каждый из трёх дней"
   ]
  },
  {
   "cell_type": "markdown",
   "metadata": {
    "id": "cC2tNrlL_Zcu"
   },
   "source": [
    "В среднем пользователи из двух городов менее активны по средам. Но картина может измениться, если рассмотреть каждый город в отдельности."
   ]
  },
  {
   "cell_type": "markdown",
   "metadata": {
    "id": "POzs8bGa_Zcu"
   },
   "source": [
    "Вы видели, как работает группировка по городу и по дням недели. Теперь напишите функцию, которая объединит два эти расчёта.\n",
    "\n",
    "Создайте функцию `number_tracks()`, которая посчитает прослушивания для заданного дня и города. Ей понадобятся два параметра:\n",
    "* день недели,\n",
    "* название города.\n",
    "\n",
    "В функции сохраните в переменную строки исходной таблицы, у которых значение:\n",
    "  * в колонке `day` равно параметру `day`,\n",
    "  * в колонке `city` равно параметру `city`.\n",
    "\n",
    "Для этого примените последовательную фильтрацию с логической индексацией.\n",
    "\n",
    "Затем посчитайте значения в столбце `user_id` получившейся таблицы. Результат сохраните в новую переменную. Верните эту переменную из функции."
   ]
  },
  {
   "cell_type": "code",
   "execution_count": 20,
   "metadata": {
    "id": "Nz3GdQB1_Zcu"
   },
   "outputs": [],
   "source": [
    "def number_tracks(day, city): \n",
    "    track_list = df[(df['day'] == day) & (df['city'] == city)]  \n",
    "    track_list_count =  track_list['user_id'].count() \n",
    "    return track_list_count\n",
    "\n",
    "# Функция для подсчёта прослушиваний для конкретного города и дня.\n",
    "# С помощью последовательной фильтрации с логической индексацией она \n",
    "# сначала получит из исходной таблицы строки с нужным днём,\n",
    "# затем из результата отфильтрует строки с нужным городом,\n",
    "# методом count() посчитает количество значений в колонке user_id. \n",
    "# Это количество функция вернёт в качестве результата"
   ]
  },
  {
   "cell_type": "markdown",
   "metadata": {
    "id": "ytf7xFrFJQ2r"
   },
   "source": [
    "Вызовите `number_tracks()` шесть раз, меняя значение параметров — так, чтобы получить данные для каждого города в каждый из трёх дней."
   ]
  },
  {
   "cell_type": "code",
   "execution_count": 21,
   "metadata": {
    "id": "rJcRATNQ_Zcu"
   },
   "outputs": [
    {
     "data": {
      "text/plain": [
       "15740"
      ]
     },
     "execution_count": 21,
     "metadata": {},
     "output_type": "execute_result"
    }
   ],
   "source": [
    "number_tracks('Monday','Moscow') # количество прослушиваний в Москве по понедельникам"
   ]
  },
  {
   "cell_type": "code",
   "execution_count": 22,
   "metadata": {
    "id": "hq_ncZ5T_Zcu"
   },
   "outputs": [
    {
     "data": {
      "text/plain": [
       "5614"
      ]
     },
     "execution_count": 22,
     "metadata": {},
     "output_type": "execute_result"
    }
   ],
   "source": [
    "number_tracks('Monday','Saint-Petersburg')# количество прослушиваний в Санкт-Петербурге по понедельникам"
   ]
  },
  {
   "cell_type": "code",
   "execution_count": 23,
   "metadata": {
    "id": "_NTy2VPU_Zcu"
   },
   "outputs": [
    {
     "data": {
      "text/plain": [
       "11056"
      ]
     },
     "execution_count": 23,
     "metadata": {},
     "output_type": "execute_result"
    }
   ],
   "source": [
    "number_tracks('Wednesday','Moscow') # количество прослушиваний в Москве по средам"
   ]
  },
  {
   "cell_type": "code",
   "execution_count": 24,
   "metadata": {
    "id": "j2y3TAwo_Zcu"
   },
   "outputs": [
    {
     "data": {
      "text/plain": [
       "7003"
      ]
     },
     "execution_count": 24,
     "metadata": {},
     "output_type": "execute_result"
    }
   ],
   "source": [
    "number_tracks('Wednesday','Saint-Petersburg')# количество прослушиваний в Санкт-Петербурге по средам"
   ]
  },
  {
   "cell_type": "code",
   "execution_count": 25,
   "metadata": {
    "id": "vYDw5u_K_Zcu"
   },
   "outputs": [
    {
     "data": {
      "text/plain": [
       "15945"
      ]
     },
     "execution_count": 25,
     "metadata": {},
     "output_type": "execute_result"
    }
   ],
   "source": [
    "number_tracks('Friday','Moscow') # количество прослушиваний в Москве по пятницам"
   ]
  },
  {
   "cell_type": "code",
   "execution_count": 26,
   "metadata": {
    "id": "8_yzFtW3_Zcu"
   },
   "outputs": [
    {
     "data": {
      "text/plain": [
       "5895"
      ]
     },
     "execution_count": 26,
     "metadata": {},
     "output_type": "execute_result"
    }
   ],
   "source": [
    "number_tracks('Friday','Saint-Petersburg')# количество прослушиваний в Санкт-Петербурге по пятницам"
   ]
  },
  {
   "cell_type": "markdown",
   "metadata": {
    "id": "7QXffbO-_Zcu"
   },
   "source": [
    "Создайте c помощью конструктора `pd.DataFrame` таблицу, где\n",
    "* названия колонок — `['city', 'monday', 'wednesday', 'friday']`;\n",
    "* данные — результаты, которые вы получили с помощью `number_tracks`."
   ]
  },
  {
   "cell_type": "code",
   "execution_count": 27,
   "metadata": {
    "id": "APAcLpOr_Zcu"
   },
   "outputs": [
    {
     "name": "stdout",
     "output_type": "stream",
     "text": [
      "               city  monday  wednesday  friday\n",
      "0            Moscow   15740      11056   15945\n",
      "1  Saint-Petersburg    5614       7003    5895\n"
     ]
    }
   ],
   "source": [
    "data = [['Moscow', 15740, 11056, 15945],\n",
    "       ['Saint-Petersburg', 5614, 7003, 5895]]\n",
    "columns = ['city', 'monday', 'wednesday', 'friday']\n",
    "research_days_result = pd.DataFrame(data = data, columns = columns)\n",
    "print(research_days_result)\n",
    "# Таблица с результатами"
   ]
  },
  {
   "cell_type": "markdown",
   "metadata": {
    "id": "-EgPIHYu_Zcu"
   },
   "source": [
    "**Выводы**\n",
    "\n",
    "Данные показывают разницу поведения пользователей:\n",
    "\n",
    "- В Москве пик прослушиваний приходится на понедельник и пятницу, а в среду заметен спад.\n",
    "- В Петербурге, наоборот, больше слушают музыку по средам. Активность в понедельник и пятницу здесь почти в равной мере уступает среде.\n",
    "\n",
    "Значит, данные говорят в пользу первой гипотезы."
   ]
  },
  {
   "cell_type": "markdown",
   "metadata": {
    "id": "atZAxtq4_Zcu"
   },
   "source": [
    "### Музыка в начале и в конце недели"
   ]
  },
  {
   "cell_type": "markdown",
   "metadata": {
    "id": "eXrQqXFH_Zcu"
   },
   "source": [
    "Согласно второй гипотезе, утром в понедельник в Москве преобладают одни жанры, а в Петербурге — другие. Так же и вечером пятницы преобладают разные жанры — в зависимости от города."
   ]
  },
  {
   "cell_type": "markdown",
   "metadata": {
    "id": "S8UcW6Hw_Zcu"
   },
   "source": [
    "Сохраните таблицы с данными в две переменные:\n",
    "* по Москве — в `moscow_general`;\n",
    "* по Санкт-Петербургу — в `spb_general`."
   ]
  },
  {
   "cell_type": "code",
   "execution_count": 28,
   "metadata": {
    "id": "qeaFfM_P_Zcu"
   },
   "outputs": [],
   "source": [
    "moscow_general = df[df['city'] == 'Moscow'] # получение таблицы moscow_general из тех строк таблицы df, \n",
    "# для которых значение в столбце 'city' равно 'Moscow'\n"
   ]
  },
  {
   "cell_type": "code",
   "execution_count": 29,
   "metadata": {
    "id": "ORaVRKto_Zcu"
   },
   "outputs": [],
   "source": [
    "spb_general = df[df['city'] == 'Saint-Petersburg'] # получение таблицы spb_general из тех строк таблицы df,\n",
    "# для которых значение в столбце 'city' равно 'Saint-Petersburg'\n"
   ]
  },
  {
   "cell_type": "markdown",
   "metadata": {
    "id": "MEJV-CX2_Zcu"
   },
   "source": [
    "Создайте функцию `genre_weekday()` с четырьмя параметрами:\n",
    "* таблица (датафрейм) с данными,\n",
    "* день недели,\n",
    "* начальная временная метка в формате 'hh:mm', \n",
    "* последняя временная метка в формате 'hh:mm'.\n",
    "\n",
    "Функция должна вернуть информацию о топ-10 жанров тех треков, которые прослушивали в указанный день, в промежутке между двумя отметками времени."
   ]
  },
  {
   "cell_type": "code",
   "execution_count": 30,
   "metadata": {
    "id": "laJT9BYl_Zcu"
   },
   "outputs": [],
   "source": [
    "def genre_weekday(table, day, time1, time2):# Объявление функции genre_weekday() с параметрами table, day, time1, time2,\n",
    "# которая возвращает информацию о самых популярных жанрах в указанный день в\n",
    "# заданное время:\n",
    "# 1) в переменную genre_df сохраняются те строки переданного датафрейма table, для\n",
    "#    которых одновременно:\n",
    "    genre_df = table[table['day'] == day] #- значение в столбце day равно значению аргумента day\n",
    "    genre_df = genre_df[genre_df['time'] > time1] #- значение в столбце time больше значения аргумента time1\n",
    "    genre_df = genre_df[genre_df['time'] < time2] #- значение в столбце time меньше значения аргумента time2\n",
    "# 2) сгруппировать датафрейм genre_df по столбцу genre, взять один из его\n",
    "#    столбцов и посчитать методом count() количество записей для каждого из\n",
    "#    присутствующих жанров, получившийся Series записать в переменную\n",
    "#    genre_df_count   \n",
    "    genre_df_count = genre_df.groupby('genre')['user_id'].count()\n",
    "# 3) отсортировать genre_df_count по убыванию встречаемости и сохранить\n",
    "#    в переменную genre_df_sorted\n",
    "    genre_df_sorted = genre_df_count.sort_values(ascending=False)\n",
    "# 4) вернуть Series из 10 первых значений genre_df_sorted, это будут топ-10\n",
    "#    популярных жанров (в указанный день, в заданное время)\n",
    "    return genre_df_sorted.head(10)"
   ]
  },
  {
   "cell_type": "markdown",
   "metadata": {
    "id": "la2s2_PF_Zcu"
   },
   "source": [
    "Cравните результаты функции `genre_weekday()` для Москвы и Санкт-Петербурга в понедельник утром (с 7:00 до 11:00) и в пятницу вечером (с 17:00 до 23:00):"
   ]
  },
  {
   "cell_type": "code",
   "execution_count": 31,
   "metadata": {
    "id": "yz7itPUQ_Zcu"
   },
   "outputs": [
    {
     "data": {
      "text/plain": [
       "genre\n",
       "pop            781\n",
       "dance          549\n",
       "electronic     480\n",
       "rock           474\n",
       "hiphop         286\n",
       "ruspop         186\n",
       "world          181\n",
       "rusrap         175\n",
       "alternative    164\n",
       "unknown        161\n",
       "Name: user_id, dtype: int64"
      ]
     },
     "execution_count": 31,
     "metadata": {},
     "output_type": "execute_result"
    }
   ],
   "source": [
    "genre_weekday(moscow_general, 'Monday', '07:00', '11:00') # вызов функции для утра понедельника в Москве (вместо df — таблица moscow_general)\n",
    "# объекты, хранящие время, являются строками и сравниваются как строки\n",
    "# пример вызова: genre_weekday(moscow_general, 'Monday', '07:00', '11:00')"
   ]
  },
  {
   "cell_type": "code",
   "execution_count": 32,
   "metadata": {
    "id": "kwUcHPdy_Zcu"
   },
   "outputs": [
    {
     "data": {
      "text/plain": [
       "genre\n",
       "pop            218\n",
       "dance          182\n",
       "rock           162\n",
       "electronic     147\n",
       "hiphop          80\n",
       "ruspop          64\n",
       "alternative     58\n",
       "rusrap          55\n",
       "jazz            44\n",
       "classical       40\n",
       "Name: user_id, dtype: int64"
      ]
     },
     "execution_count": 32,
     "metadata": {},
     "output_type": "execute_result"
    }
   ],
   "source": [
    "genre_weekday(spb_general, 'Monday', '07:00', '11:00')# вызов функции для утра понедельника в Петербурге (вместо df — таблица spb_general)"
   ]
  },
  {
   "cell_type": "code",
   "execution_count": 33,
   "metadata": {
    "id": "EzXVRE1o_Zcu"
   },
   "outputs": [
    {
     "data": {
      "text/plain": [
       "genre\n",
       "pop            713\n",
       "rock           517\n",
       "dance          495\n",
       "electronic     482\n",
       "hiphop         273\n",
       "world          208\n",
       "ruspop         170\n",
       "alternative    163\n",
       "classical      163\n",
       "rusrap         142\n",
       "Name: user_id, dtype: int64"
      ]
     },
     "execution_count": 33,
     "metadata": {},
     "output_type": "execute_result"
    }
   ],
   "source": [
    "genre_weekday(moscow_general, 'Friday', '17:00', '23:00')# вызов функции для вечера пятницы в Москве"
   ]
  },
  {
   "cell_type": "code",
   "execution_count": 34,
   "metadata": {
    "id": "JZaEKu5v_Zcu"
   },
   "outputs": [
    {
     "data": {
      "text/plain": [
       "genre\n",
       "pop            256\n",
       "rock           216\n",
       "electronic     216\n",
       "dance          210\n",
       "hiphop          97\n",
       "alternative     63\n",
       "jazz            61\n",
       "classical       60\n",
       "rusrap          59\n",
       "world           54\n",
       "Name: user_id, dtype: int64"
      ]
     },
     "execution_count": 34,
     "metadata": {},
     "output_type": "execute_result"
    }
   ],
   "source": [
    "genre_weekday(spb_general, 'Friday', '17:00', '23:00')# вызов функции для вечера пятницы в Петербурге"
   ]
  },
  {
   "cell_type": "markdown",
   "metadata": {
    "id": "wrCe4MNX_Zcu"
   },
   "source": [
    "**Выводы**\n",
    "\n",
    "Если сравнить топ-10 жанров в понедельник утром, можно сделать такие выводы:\n",
    "\n",
    "1. В Москве и Петербурге слушают похожую музыку. Единственное отличие — в московский рейтинг вошёл жанр “world”, а в петербургский — джаз и классика.\n",
    "\n",
    "2. В Москве пропущенных значений оказалось так много, что значение `'unknown'` заняло десятое место среди самых популярных жанров. Значит, пропущенные значения занимают существенную долю в данных и угрожают достоверности исследования.\n",
    "\n",
    "Вечер пятницы не меняет эту картину. Некоторые жанры поднимаются немного выше, другие спускаются, но в целом топ-10 остаётся тем же самым.\n",
    "\n",
    "Таким образом, вторая гипотеза подтвердилась лишь частично:\n",
    "* Пользователи слушают похожую музыку в начале недели и в конце.\n",
    "* Разница между Москвой и Петербургом не слишком выражена. В Москве чаще слушают русскую популярную музыку, в Петербурге — джаз.\n",
    "\n",
    "Однако пропуски в данных ставят под сомнение этот результат. В Москве их так много, что рейтинг топ-10 мог бы выглядеть иначе, если бы не утерянные  данные о жанрах."
   ]
  },
  {
   "cell_type": "markdown",
   "metadata": {
    "id": "JolODAqr_Zcu"
   },
   "source": [
    "### Жанровые предпочтения в Москве и Петербурге\n",
    "\n",
    "Гипотеза: Петербург — столица рэпа, музыку этого жанра там слушают чаще, чем в Москве.  А Москва — город контрастов, в котором, тем не менее, преобладает поп-музыка."
   ]
  },
  {
   "cell_type": "markdown",
   "metadata": {
    "id": "DlegSvaT_Zcu"
   },
   "source": [
    "Сгруппируйте таблицу `moscow_general` по жанру и посчитайте прослушивания треков каждого жанра методом `count()`. Затем отсортируйте результат в порядке убывания и сохраните его в таблице `moscow_genres`."
   ]
  },
  {
   "cell_type": "code",
   "execution_count": 35,
   "metadata": {
    "id": "r19lIPke_Zcu"
   },
   "outputs": [],
   "source": [
    "moscow_genres = moscow_general.groupby('genre')['genre'].count().sort_values(ascending=False) # одной строкой: группировка таблицы moscow_general по столбцу 'genre', \n",
    "# подсчёт числа значений 'genre' в этой группировке методом count(), \n",
    "# сортировка получившегося Series в порядке убывания и сохранение в moscow_genres"
   ]
  },
  {
   "cell_type": "markdown",
   "metadata": {
    "id": "6kMuomxTiIr8"
   },
   "source": [
    "Выведите на экран первые десять строк `moscow_genres`:"
   ]
  },
  {
   "cell_type": "code",
   "execution_count": 36,
   "metadata": {
    "id": "WhCSooF8_Zcv"
   },
   "outputs": [
    {
     "data": {
      "text/plain": [
       "genre\n",
       "pop            5892\n",
       "dance          4435\n",
       "rock           3965\n",
       "electronic     3786\n",
       "hiphop         2096\n",
       "classical      1616\n",
       "world          1432\n",
       "alternative    1379\n",
       "ruspop         1372\n",
       "rusrap         1161\n",
       "Name: genre, dtype: int64"
      ]
     },
     "metadata": {},
     "output_type": "display_data"
    }
   ],
   "source": [
    "display(moscow_genres.head(10))# просмотр первых 10 строк moscow_genres"
   ]
  },
  {
   "cell_type": "markdown",
   "metadata": {
    "id": "cnPG2vnN_Zcv"
   },
   "source": [
    "Теперь повторите то же и для Петербурга.\n",
    "\n",
    "Сгруппируйте таблицу `spb_general` по жанру. Посчитайте прослушивания треков каждого жанра. Результат отсортируйте в порядке убывания и сохраните в таблице `spb_genres`:\n"
   ]
  },
  {
   "cell_type": "code",
   "execution_count": 37,
   "metadata": {
    "id": "gluLIpE7_Zcv"
   },
   "outputs": [],
   "source": [
    "spb_genres = spb_general.groupby('genre')['genre'].count() # одной строкой: группировка таблицы spb_general по столбцу 'genre', \n",
    "# подсчёт числа значений 'genre' в этой группировке методом count(), \n",
    "spb_genres = spb_genres.sort_values(ascending=False) # сортировка получившегося Series в порядке убывания и сохранение в spb_genres"
   ]
  },
  {
   "cell_type": "markdown",
   "metadata": {
    "id": "5Doha_ODgyQ8"
   },
   "source": [
    "Выведите на экран первые десять строк `spb_genres`:"
   ]
  },
  {
   "cell_type": "code",
   "execution_count": 38,
   "metadata": {
    "id": "uaGJHjVU_Zcv"
   },
   "outputs": [
    {
     "data": {
      "text/plain": [
       "genre\n",
       "pop            2431\n",
       "dance          1932\n",
       "rock           1879\n",
       "electronic     1736\n",
       "hiphop          960\n",
       "alternative     649\n",
       "classical       646\n",
       "rusrap          564\n",
       "ruspop          538\n",
       "world           515\n",
       "Name: genre, dtype: int64"
      ]
     },
     "metadata": {},
     "output_type": "display_data"
    }
   ],
   "source": [
    "display(spb_genres.head(10))# просмотр первых 10 строк spb_genres"
   ]
  },
  {
   "cell_type": "markdown",
   "metadata": {
    "id": "RY51YJYu_Zcv"
   },
   "source": [
    "**Выводы**"
   ]
  },
  {
   "cell_type": "markdown",
   "metadata": {
    "id": "nVhnJEm__Zcv"
   },
   "source": [
    "Гипотеза частично подтвердилась:\n",
    "* Поп-музыка — самый популярный жанр в Москве, как и предполагала гипотеза. Более того, в топ-10 жанров встречается близкий жанр — русская популярная музыка.\n",
    "* Вопреки ожиданиям, рэп одинаково популярен в Москве и Петербурге. \n"
   ]
  },
  {
   "cell_type": "markdown",
   "metadata": {
    "id": "ykKQ0N65_Zcv"
   },
   "source": [
    "## Итоги исследования"
   ]
  },
  {
   "cell_type": "markdown",
   "metadata": {
    "id": "tjUwbHb3_Zcv"
   },
   "source": [
    "Вы проверили три гипотезы и установили:\n",
    "\n",
    "1. День недели по-разному влияет на активность пользователей в Москве и Петербурге. \n",
    "\n",
    "Первая гипотеза полностью подтвердилась.\n",
    "\n",
    "2. Музыкальные предпочтения не сильно меняются в течение недели — будь то Москва или Петербург. Небольшие различия заметны в начале недели, по понедельникам:\n",
    "* в Москве слушают музыку жанра “world”,\n",
    "* в Петербурге — джаз и классику.\n",
    "\n",
    "Таким образом, вторая гипотеза подтвердилась лишь отчасти. Этот результат мог оказаться иным, если бы не пропуски в данных.\n",
    "\n",
    "3. Во вкусах пользователей Москвы и Петербурга больше общего чем различий. Вопреки ожиданиям, предпочтения жанров в Петербурге напоминают московские.\n",
    "\n",
    "Третья гипотеза не подтвердилась. Если различия в предпочтениях и существуют, на основной массе пользователей они незаметны.\n",
    "\n",
    "**На практике исследования содержат проверки статистических гипотез.**\n",
    "Из данных одного сервиса не всегда можно сделать вывод о всех жителях города.\n",
    "Проверки статистических гипотез покажут, насколько они достоверны, исходя из имеющихся данных. \n",
    "С методами проверок гипотез вы ещё познакомитесь в следующих темах."
   ]
  }
 ],
 "metadata": {
  "ExecuteTimeLog": [
   {
    "duration": 256,
    "start_time": "2022-01-13T07:18:43.876Z"
   },
   {
    "duration": 220,
    "start_time": "2022-01-13T07:18:58.513Z"
   },
   {
    "duration": 240,
    "start_time": "2022-01-13T07:22:12.135Z"
   },
   {
    "duration": 248,
    "start_time": "2022-01-13T07:23:09.411Z"
   },
   {
    "duration": 208,
    "start_time": "2022-01-13T07:24:48.896Z"
   },
   {
    "duration": 216,
    "start_time": "2022-01-13T07:25:50.436Z"
   },
   {
    "duration": 214,
    "start_time": "2022-01-13T07:25:51.945Z"
   },
   {
    "duration": 219,
    "start_time": "2022-01-13T07:26:43.080Z"
   },
   {
    "duration": 227,
    "start_time": "2022-01-13T07:27:12.186Z"
   },
   {
    "duration": 215,
    "start_time": "2022-01-13T07:27:17.112Z"
   },
   {
    "duration": 218,
    "start_time": "2022-01-13T07:27:18.035Z"
   },
   {
    "duration": 226,
    "start_time": "2022-01-13T07:27:54.944Z"
   },
   {
    "duration": 241,
    "start_time": "2022-01-13T07:27:57.837Z"
   },
   {
    "duration": 233,
    "start_time": "2022-01-13T07:30:06.070Z"
   },
   {
    "duration": 219,
    "start_time": "2022-01-13T07:30:24.808Z"
   },
   {
    "duration": 211,
    "start_time": "2022-01-13T07:30:47.644Z"
   },
   {
    "duration": 227,
    "start_time": "2022-01-13T07:30:51.081Z"
   },
   {
    "duration": 223,
    "start_time": "2022-01-13T07:31:31.747Z"
   },
   {
    "duration": 239,
    "start_time": "2022-01-13T07:31:48.455Z"
   },
   {
    "duration": 219,
    "start_time": "2022-01-13T07:32:23.221Z"
   },
   {
    "duration": 200,
    "start_time": "2022-01-13T07:32:39.522Z"
   },
   {
    "duration": 238,
    "start_time": "2022-01-13T07:32:52.090Z"
   },
   {
    "duration": 208,
    "start_time": "2022-01-13T07:32:55.257Z"
   },
   {
    "duration": 2312,
    "start_time": "2022-01-13T07:35:26.535Z"
   },
   {
    "duration": 214,
    "start_time": "2022-01-13T07:43:20.361Z"
   },
   {
    "duration": 218,
    "start_time": "2022-01-13T07:44:49.804Z"
   },
   {
    "duration": 224,
    "start_time": "2022-01-13T07:45:07.909Z"
   },
   {
    "duration": 206,
    "start_time": "2022-01-13T07:46:46.854Z"
   },
   {
    "duration": 227,
    "start_time": "2022-01-13T07:46:52.786Z"
   },
   {
    "duration": 288,
    "start_time": "2022-01-13T07:53:41.287Z"
   },
   {
    "duration": 223,
    "start_time": "2022-01-13T08:02:16.241Z"
   },
   {
    "duration": 206,
    "start_time": "2022-01-13T08:03:14.196Z"
   },
   {
    "duration": 203,
    "start_time": "2022-01-13T08:03:35.829Z"
   },
   {
    "duration": 224,
    "start_time": "2022-01-13T08:04:04.019Z"
   },
   {
    "duration": 226,
    "start_time": "2022-01-13T08:04:10.332Z"
   },
   {
    "duration": 650,
    "start_time": "2022-01-13T08:04:27.776Z"
   },
   {
    "duration": 140,
    "start_time": "2022-01-13T08:04:32.162Z"
   },
   {
    "duration": 18,
    "start_time": "2022-01-13T08:04:38.771Z"
   },
   {
    "duration": 2,
    "start_time": "2022-01-13T08:06:03.760Z"
   },
   {
    "duration": 152,
    "start_time": "2022-01-13T08:06:06.306Z"
   },
   {
    "duration": 11,
    "start_time": "2022-01-13T08:06:09.950Z"
   },
   {
    "duration": 27,
    "start_time": "2022-01-13T08:08:45.937Z"
   },
   {
    "duration": 4,
    "start_time": "2022-01-13T08:12:50.401Z"
   },
   {
    "duration": 22,
    "start_time": "2022-01-13T08:14:56.941Z"
   },
   {
    "duration": 4,
    "start_time": "2022-01-13T08:15:16.305Z"
   },
   {
    "duration": 23,
    "start_time": "2022-01-13T08:17:03.364Z"
   },
   {
    "duration": 233,
    "start_time": "2022-01-13T08:25:35.123Z"
   },
   {
    "duration": 21,
    "start_time": "2022-01-13T08:26:01.335Z"
   },
   {
    "duration": 24,
    "start_time": "2022-01-13T08:26:06.412Z"
   },
   {
    "duration": 18,
    "start_time": "2022-01-13T08:27:53.596Z"
   },
   {
    "duration": 25,
    "start_time": "2022-01-13T08:27:56.933Z"
   },
   {
    "duration": 60,
    "start_time": "2022-01-13T08:29:13.628Z"
   },
   {
    "duration": 72,
    "start_time": "2022-01-13T08:30:15.009Z"
   },
   {
    "duration": 51,
    "start_time": "2022-01-13T08:30:25.591Z"
   },
   {
    "duration": 64,
    "start_time": "2022-01-13T08:34:17.809Z"
   },
   {
    "duration": 6,
    "start_time": "2022-01-13T08:36:30.302Z"
   },
   {
    "duration": 3,
    "start_time": "2022-01-13T08:43:40.705Z"
   },
   {
    "duration": 8,
    "start_time": "2022-01-13T08:46:36.739Z"
   },
   {
    "duration": 9,
    "start_time": "2022-01-13T08:46:44.498Z"
   },
   {
    "duration": 3,
    "start_time": "2022-01-13T08:47:33.628Z"
   },
   {
    "duration": 3,
    "start_time": "2022-01-13T08:47:35.927Z"
   },
   {
    "duration": 10,
    "start_time": "2022-01-13T08:47:37.953Z"
   },
   {
    "duration": 7,
    "start_time": "2022-01-13T08:47:41.649Z"
   },
   {
    "duration": 398,
    "start_time": "2022-01-13T10:22:01.827Z"
   },
   {
    "duration": 322,
    "start_time": "2022-01-13T10:25:15.771Z"
   },
   {
    "duration": 309,
    "start_time": "2022-01-13T10:25:19.271Z"
   },
   {
    "duration": 302,
    "start_time": "2022-01-13T10:27:03.416Z"
   },
   {
    "duration": 768,
    "start_time": "2022-01-13T10:27:21.646Z"
   },
   {
    "duration": 199,
    "start_time": "2022-01-13T10:27:22.416Z"
   },
   {
    "duration": 26,
    "start_time": "2022-01-13T10:27:22.618Z"
   },
   {
    "duration": 53,
    "start_time": "2022-01-13T10:27:22.647Z"
   },
   {
    "duration": 117,
    "start_time": "2022-01-13T10:27:22.703Z"
   },
   {
    "duration": -680,
    "start_time": "2022-01-13T10:27:23.503Z"
   },
   {
    "duration": -688,
    "start_time": "2022-01-13T10:27:23.513Z"
   },
   {
    "duration": -696,
    "start_time": "2022-01-13T10:27:23.522Z"
   },
   {
    "duration": -701,
    "start_time": "2022-01-13T10:27:23.528Z"
   },
   {
    "duration": -708,
    "start_time": "2022-01-13T10:27:23.536Z"
   },
   {
    "duration": -714,
    "start_time": "2022-01-13T10:27:23.544Z"
   },
   {
    "duration": -720,
    "start_time": "2022-01-13T10:27:23.551Z"
   },
   {
    "duration": -729,
    "start_time": "2022-01-13T10:27:23.561Z"
   },
   {
    "duration": -734,
    "start_time": "2022-01-13T10:27:23.567Z"
   },
   {
    "duration": -741,
    "start_time": "2022-01-13T10:27:23.576Z"
   },
   {
    "duration": -746,
    "start_time": "2022-01-13T10:27:23.582Z"
   },
   {
    "duration": -753,
    "start_time": "2022-01-13T10:27:23.590Z"
   },
   {
    "duration": -770,
    "start_time": "2022-01-13T10:27:23.608Z"
   },
   {
    "duration": -775,
    "start_time": "2022-01-13T10:27:23.615Z"
   },
   {
    "duration": -783,
    "start_time": "2022-01-13T10:27:23.625Z"
   },
   {
    "duration": -788,
    "start_time": "2022-01-13T10:27:23.631Z"
   },
   {
    "duration": -793,
    "start_time": "2022-01-13T10:27:23.638Z"
   },
   {
    "duration": -803,
    "start_time": "2022-01-13T10:27:23.649Z"
   },
   {
    "duration": -809,
    "start_time": "2022-01-13T10:27:23.657Z"
   },
   {
    "duration": -815,
    "start_time": "2022-01-13T10:27:23.664Z"
   },
   {
    "duration": -822,
    "start_time": "2022-01-13T10:27:23.673Z"
   },
   {
    "duration": -827,
    "start_time": "2022-01-13T10:27:23.679Z"
   },
   {
    "duration": -833,
    "start_time": "2022-01-13T10:27:23.687Z"
   },
   {
    "duration": -839,
    "start_time": "2022-01-13T10:27:23.694Z"
   },
   {
    "duration": -844,
    "start_time": "2022-01-13T10:27:23.701Z"
   },
   {
    "duration": -863,
    "start_time": "2022-01-13T10:27:23.721Z"
   },
   {
    "duration": -867,
    "start_time": "2022-01-13T10:27:23.727Z"
   },
   {
    "duration": -872,
    "start_time": "2022-01-13T10:27:23.733Z"
   },
   {
    "duration": -840,
    "start_time": "2022-01-13T10:27:23.741Z"
   },
   {
    "duration": -843,
    "start_time": "2022-01-13T10:27:23.746Z"
   },
   {
    "duration": -847,
    "start_time": "2022-01-13T10:27:23.751Z"
   },
   {
    "duration": -855,
    "start_time": "2022-01-13T10:27:23.760Z"
   },
   {
    "duration": -860,
    "start_time": "2022-01-13T10:27:23.766Z"
   },
   {
    "duration": -868,
    "start_time": "2022-01-13T10:27:23.775Z"
   },
   {
    "duration": 346,
    "start_time": "2022-01-13T10:27:34.877Z"
   },
   {
    "duration": 3,
    "start_time": "2022-01-13T10:28:04.645Z"
   },
   {
    "duration": 200,
    "start_time": "2022-01-13T10:28:06.921Z"
   },
   {
    "duration": 16,
    "start_time": "2022-01-13T10:28:09.508Z"
   },
   {
    "duration": 33,
    "start_time": "2022-01-13T10:28:14.680Z"
   },
   {
    "duration": 6,
    "start_time": "2022-01-13T10:28:20.492Z"
   },
   {
    "duration": 31,
    "start_time": "2022-01-13T10:28:24.513Z"
   },
   {
    "duration": 32,
    "start_time": "2022-01-13T10:28:32.058Z"
   },
   {
    "duration": 23,
    "start_time": "2022-01-13T10:28:38.788Z"
   },
   {
    "duration": 22,
    "start_time": "2022-01-13T10:28:43.573Z"
   },
   {
    "duration": 32,
    "start_time": "2022-01-13T10:28:45.469Z"
   },
   {
    "duration": 90,
    "start_time": "2022-01-13T10:28:49.428Z"
   },
   {
    "duration": 109,
    "start_time": "2022-01-13T10:28:52.159Z"
   },
   {
    "duration": 104,
    "start_time": "2022-01-13T10:28:55.018Z"
   },
   {
    "duration": 11,
    "start_time": "2022-01-13T10:28:57.281Z"
   },
   {
    "duration": 4,
    "start_time": "2022-01-13T10:29:01.278Z"
   },
   {
    "duration": 16,
    "start_time": "2022-01-13T10:29:04.325Z"
   },
   {
    "duration": 10,
    "start_time": "2022-01-13T10:29:07.588Z"
   },
   {
    "duration": 47,
    "start_time": "2022-01-13T10:29:13.648Z"
   },
   {
    "duration": 15,
    "start_time": "2022-01-13T10:30:08.562Z"
   },
   {
    "duration": 16,
    "start_time": "2022-01-13T10:33:23.144Z"
   },
   {
    "duration": 14,
    "start_time": "2022-01-13T10:33:41.618Z"
   },
   {
    "duration": 5,
    "start_time": "2022-01-13T10:55:21.200Z"
   },
   {
    "duration": 708,
    "start_time": "2022-01-13T10:55:55.106Z"
   },
   {
    "duration": 629,
    "start_time": "2022-01-13T10:56:15.511Z"
   },
   {
    "duration": 5,
    "start_time": "2022-01-13T10:57:48.815Z"
   },
   {
    "duration": 839,
    "start_time": "2022-01-13T10:58:19.724Z"
   },
   {
    "duration": 644,
    "start_time": "2022-01-13T10:58:27.393Z"
   },
   {
    "duration": 5,
    "start_time": "2022-01-13T11:00:14.159Z"
   },
   {
    "duration": 5,
    "start_time": "2022-01-13T11:00:42.256Z"
   },
   {
    "duration": 24,
    "start_time": "2022-01-13T11:00:45.451Z"
   },
   {
    "duration": 23,
    "start_time": "2022-01-13T11:01:23.907Z"
   },
   {
    "duration": 19,
    "start_time": "2022-01-13T11:02:12.886Z"
   },
   {
    "duration": 20,
    "start_time": "2022-01-13T11:02:14.751Z"
   },
   {
    "duration": 23,
    "start_time": "2022-01-13T11:02:16.550Z"
   },
   {
    "duration": 21,
    "start_time": "2022-01-13T11:02:18.273Z"
   },
   {
    "duration": 4,
    "start_time": "2022-01-13T11:04:10.605Z"
   },
   {
    "duration": 5,
    "start_time": "2022-01-13T11:04:23.333Z"
   },
   {
    "duration": 5,
    "start_time": "2022-01-13T11:04:32.169Z"
   },
   {
    "duration": 5,
    "start_time": "2022-01-13T11:04:38.280Z"
   },
   {
    "duration": 10,
    "start_time": "2022-01-13T11:09:43.030Z"
   },
   {
    "duration": 744,
    "start_time": "2022-01-13T11:10:17.231Z"
   },
   {
    "duration": 10,
    "start_time": "2022-01-13T11:10:28.827Z"
   },
   {
    "duration": 14,
    "start_time": "2022-01-13T11:31:37.546Z"
   },
   {
    "duration": 34,
    "start_time": "2022-01-13T11:32:05.317Z"
   },
   {
    "duration": 17,
    "start_time": "2022-01-13T11:32:21.306Z"
   },
   {
    "duration": 12,
    "start_time": "2022-01-13T11:32:43.414Z"
   },
   {
    "duration": 107,
    "start_time": "2022-01-13T11:45:32.425Z"
   },
   {
    "duration": 104,
    "start_time": "2022-01-13T11:46:46.069Z"
   },
   {
    "duration": 5,
    "start_time": "2022-01-13T11:47:11.770Z"
   },
   {
    "duration": 650,
    "start_time": "2022-01-13T11:47:41.303Z"
   },
   {
    "duration": 5,
    "start_time": "2022-01-13T11:49:12.753Z"
   },
   {
    "duration": 689,
    "start_time": "2022-01-13T11:49:17.800Z"
   },
   {
    "duration": 15,
    "start_time": "2022-01-13T11:52:04.964Z"
   },
   {
    "duration": 21,
    "start_time": "2022-01-13T11:52:06.566Z"
   },
   {
    "duration": 6,
    "start_time": "2022-01-13T11:52:09.058Z"
   },
   {
    "duration": 658,
    "start_time": "2022-01-13T11:52:14.463Z"
   },
   {
    "duration": 5,
    "start_time": "2022-01-13T11:54:51.714Z"
   },
   {
    "duration": 42,
    "start_time": "2022-01-13T11:54:54.675Z"
   },
   {
    "duration": 5,
    "start_time": "2022-01-13T11:55:23.818Z"
   },
   {
    "duration": 35,
    "start_time": "2022-01-13T11:55:27.284Z"
   },
   {
    "duration": 10,
    "start_time": "2022-01-13T11:57:53.672Z"
   },
   {
    "duration": 698,
    "start_time": "2022-01-13T11:57:57.940Z"
   },
   {
    "duration": 6,
    "start_time": "2022-01-13T11:58:51.451Z"
   },
   {
    "duration": 632,
    "start_time": "2022-01-13T11:58:56.816Z"
   },
   {
    "duration": 9,
    "start_time": "2022-01-13T11:59:05.701Z"
   },
   {
    "duration": 53,
    "start_time": "2022-01-13T11:59:08.478Z"
   },
   {
    "duration": 7,
    "start_time": "2022-01-13T12:00:40.303Z"
   },
   {
    "duration": -591,
    "start_time": "2022-01-13T12:00:52.081Z"
   },
   {
    "duration": 6,
    "start_time": "2022-01-13T12:00:53.891Z"
   },
   {
    "duration": -602,
    "start_time": "2022-01-13T12:01:06.349Z"
   },
   {
    "duration": 6,
    "start_time": "2022-01-13T12:01:36.641Z"
   },
   {
    "duration": 36,
    "start_time": "2022-01-13T12:01:40.361Z"
   },
   {
    "duration": 5,
    "start_time": "2022-01-13T12:03:08.352Z"
   },
   {
    "duration": -584,
    "start_time": "2022-01-13T12:03:23.140Z"
   },
   {
    "duration": -601,
    "start_time": "2022-01-13T12:03:23.158Z"
   },
   {
    "duration": 6,
    "start_time": "2022-01-13T12:04:58.356Z"
   },
   {
    "duration": 667,
    "start_time": "2022-01-13T12:05:01.354Z"
   },
   {
    "duration": 6,
    "start_time": "2022-01-13T12:05:36.493Z"
   },
   {
    "duration": 657,
    "start_time": "2022-01-13T12:05:39.611Z"
   },
   {
    "duration": 5,
    "start_time": "2022-01-13T12:05:53.291Z"
   },
   {
    "duration": 34,
    "start_time": "2022-01-13T12:05:59.330Z"
   },
   {
    "duration": 26,
    "start_time": "2022-01-13T12:08:48.779Z"
   },
   {
    "duration": 17,
    "start_time": "2022-01-13T12:08:51.399Z"
   },
   {
    "duration": 18,
    "start_time": "2022-01-13T12:08:53.811Z"
   },
   {
    "duration": 6,
    "start_time": "2022-01-13T12:11:10.236Z"
   },
   {
    "duration": 675,
    "start_time": "2022-01-13T12:11:12.564Z"
   },
   {
    "duration": 6,
    "start_time": "2022-01-13T12:11:27.077Z"
   },
   {
    "duration": 35,
    "start_time": "2022-01-13T12:11:30.661Z"
   },
   {
    "duration": 31,
    "start_time": "2022-01-13T12:14:26.319Z"
   },
   {
    "duration": 6,
    "start_time": "2022-01-13T12:15:01.744Z"
   },
   {
    "duration": 10108,
    "start_time": "2022-01-13T12:15:04.651Z"
   },
   {
    "duration": -541,
    "start_time": "2022-01-13T12:15:15.302Z"
   },
   {
    "duration": -478,
    "start_time": "2022-01-13T12:15:43.847Z"
   },
   {
    "duration": 7,
    "start_time": "2022-01-13T12:15:56.198Z"
   },
   {
    "duration": 32,
    "start_time": "2022-01-13T12:15:59.162Z"
   },
   {
    "duration": 16,
    "start_time": "2022-01-13T12:16:25.856Z"
   },
   {
    "duration": 13,
    "start_time": "2022-01-13T12:16:28.114Z"
   },
   {
    "duration": 5,
    "start_time": "2022-01-13T12:16:34.466Z"
   },
   {
    "duration": -461,
    "start_time": "2022-01-13T12:16:44.254Z"
   },
   {
    "duration": 17,
    "start_time": "2022-01-13T12:16:52.780Z"
   },
   {
    "duration": 14,
    "start_time": "2022-01-13T12:16:54.640Z"
   },
   {
    "duration": 5,
    "start_time": "2022-01-13T12:16:57.949Z"
   },
   {
    "duration": 32,
    "start_time": "2022-01-13T12:17:01.310Z"
   },
   {
    "duration": 39,
    "start_time": "2022-01-13T12:17:12.916Z"
   },
   {
    "duration": 24,
    "start_time": "2022-01-13T12:17:30.230Z"
   },
   {
    "duration": 18,
    "start_time": "2022-01-13T12:17:40.940Z"
   },
   {
    "duration": 40,
    "start_time": "2022-01-13T12:17:58.477Z"
   },
   {
    "duration": 18,
    "start_time": "2022-01-13T12:18:09.016Z"
   },
   {
    "duration": 25,
    "start_time": "2022-01-13T12:18:19.076Z"
   },
   {
    "duration": 25,
    "start_time": "2022-01-13T12:18:47.412Z"
   },
   {
    "duration": 25,
    "start_time": "2022-01-13T12:19:42.140Z"
   },
   {
    "duration": 25,
    "start_time": "2022-01-13T12:19:46.765Z"
   },
   {
    "duration": 33,
    "start_time": "2022-01-13T12:20:35.610Z"
   },
   {
    "duration": 25,
    "start_time": "2022-01-13T12:20:42.922Z"
   },
   {
    "duration": 6,
    "start_time": "2022-01-13T12:25:25.439Z"
   },
   {
    "duration": 25,
    "start_time": "2022-01-13T12:25:32.936Z"
   },
   {
    "duration": 33,
    "start_time": "2022-01-13T12:25:35.809Z"
   },
   {
    "duration": 24,
    "start_time": "2022-01-13T12:25:37.910Z"
   },
   {
    "duration": 487,
    "start_time": "2022-01-13T12:31:41.582Z"
   },
   {
    "duration": -333,
    "start_time": "2022-01-13T12:32:15.947Z"
   },
   {
    "duration": 9128,
    "start_time": "2022-01-13T12:32:53.597Z"
   },
   {
    "duration": -359,
    "start_time": "2022-01-13T12:33:03.088Z"
   },
   {
    "duration": 32,
    "start_time": "2022-01-13T12:33:42.951Z"
   },
   {
    "duration": 12,
    "start_time": "2022-01-13T12:33:46.562Z"
   },
   {
    "duration": 4521,
    "start_time": "2022-01-13T12:35:08.919Z"
   },
   {
    "duration": -322,
    "start_time": "2022-01-13T12:35:13.765Z"
   },
   {
    "duration": 40,
    "start_time": "2022-01-13T12:35:25.449Z"
   },
   {
    "duration": 12,
    "start_time": "2022-01-13T12:35:36.668Z"
   },
   {
    "duration": 20,
    "start_time": "2022-01-13T12:36:49.279Z"
   },
   {
    "duration": 12,
    "start_time": "2022-01-13T12:36:51.881Z"
   },
   {
    "duration": 19,
    "start_time": "2022-01-13T12:39:41.269Z"
   },
   {
    "duration": 19,
    "start_time": "2022-01-13T12:39:45.980Z"
   },
   {
    "duration": 12,
    "start_time": "2022-01-13T12:39:48.163Z"
   },
   {
    "duration": 21,
    "start_time": "2022-01-13T12:40:45.747Z"
   },
   {
    "duration": 36,
    "start_time": "2022-01-13T12:40:50.308Z"
   },
   {
    "duration": 13,
    "start_time": "2022-01-13T12:40:52.331Z"
   },
   {
    "duration": 6,
    "start_time": "2022-01-13T12:41:49.528Z"
   },
   {
    "duration": 7,
    "start_time": "2022-01-13T12:42:01.062Z"
   },
   {
    "duration": 34,
    "start_time": "2022-01-13T12:42:03.912Z"
   },
   {
    "duration": 26,
    "start_time": "2022-01-13T12:42:12.380Z"
   },
   {
    "duration": 32,
    "start_time": "2022-01-13T12:42:20.370Z"
   },
   {
    "duration": 25,
    "start_time": "2022-01-13T12:42:22.956Z"
   },
   {
    "duration": 370,
    "start_time": "2022-01-13T12:43:39.053Z"
   },
   {
    "duration": 394,
    "start_time": "2022-01-13T12:43:42.960Z"
   },
   {
    "duration": 37,
    "start_time": "2022-01-13T12:43:58.140Z"
   },
   {
    "duration": 14,
    "start_time": "2022-01-13T12:44:01.187Z"
   },
   {
    "duration": 337,
    "start_time": "2022-01-13T12:46:34.658Z"
   },
   {
    "duration": 333,
    "start_time": "2022-01-13T12:46:56.026Z"
   },
   {
    "duration": 19,
    "start_time": "2022-01-13T12:47:03.309Z"
   },
   {
    "duration": 13,
    "start_time": "2022-01-13T12:47:09.645Z"
   },
   {
    "duration": 22,
    "start_time": "2022-01-13T12:47:15.277Z"
   },
   {
    "duration": 716,
    "start_time": "2022-01-15T13:06:50.466Z"
   },
   {
    "duration": 169,
    "start_time": "2022-01-15T13:06:51.185Z"
   },
   {
    "duration": 27,
    "start_time": "2022-01-15T13:06:51.357Z"
   },
   {
    "duration": 55,
    "start_time": "2022-01-15T13:06:51.387Z"
   },
   {
    "duration": 120,
    "start_time": "2022-01-15T13:06:51.444Z"
   },
   {
    "duration": -6960,
    "start_time": "2022-01-15T13:06:58.528Z"
   },
   {
    "duration": -6970,
    "start_time": "2022-01-15T13:06:58.539Z"
   },
   {
    "duration": -6977,
    "start_time": "2022-01-15T13:06:58.548Z"
   },
   {
    "duration": -6983,
    "start_time": "2022-01-15T13:06:58.555Z"
   },
   {
    "duration": -6986,
    "start_time": "2022-01-15T13:06:58.560Z"
   },
   {
    "duration": -6991,
    "start_time": "2022-01-15T13:06:58.567Z"
   },
   {
    "duration": -6996,
    "start_time": "2022-01-15T13:06:58.573Z"
   },
   {
    "duration": -7000,
    "start_time": "2022-01-15T13:06:58.579Z"
   },
   {
    "duration": -7006,
    "start_time": "2022-01-15T13:06:58.586Z"
   },
   {
    "duration": -7010,
    "start_time": "2022-01-15T13:06:58.592Z"
   },
   {
    "duration": -7013,
    "start_time": "2022-01-15T13:06:58.597Z"
   },
   {
    "duration": -7018,
    "start_time": "2022-01-15T13:06:58.603Z"
   },
   {
    "duration": -7020,
    "start_time": "2022-01-15T13:06:58.607Z"
   },
   {
    "duration": -7026,
    "start_time": "2022-01-15T13:06:58.614Z"
   },
   {
    "duration": -7045,
    "start_time": "2022-01-15T13:06:58.635Z"
   },
   {
    "duration": -7052,
    "start_time": "2022-01-15T13:06:58.643Z"
   },
   {
    "duration": -7057,
    "start_time": "2022-01-15T13:06:58.649Z"
   },
   {
    "duration": -7062,
    "start_time": "2022-01-15T13:06:58.656Z"
   },
   {
    "duration": -7067,
    "start_time": "2022-01-15T13:06:58.662Z"
   },
   {
    "duration": -7071,
    "start_time": "2022-01-15T13:06:58.668Z"
   },
   {
    "duration": -7075,
    "start_time": "2022-01-15T13:06:58.673Z"
   },
   {
    "duration": -7080,
    "start_time": "2022-01-15T13:06:58.679Z"
   },
   {
    "duration": -7083,
    "start_time": "2022-01-15T13:06:58.684Z"
   },
   {
    "duration": -7088,
    "start_time": "2022-01-15T13:06:58.690Z"
   },
   {
    "duration": -7091,
    "start_time": "2022-01-15T13:06:58.695Z"
   },
   {
    "duration": -7096,
    "start_time": "2022-01-15T13:06:58.701Z"
   },
   {
    "duration": -7082,
    "start_time": "2022-01-15T13:06:58.706Z"
   },
   {
    "duration": -7087,
    "start_time": "2022-01-15T13:06:58.712Z"
   },
   {
    "duration": -7090,
    "start_time": "2022-01-15T13:06:58.717Z"
   },
   {
    "duration": -7094,
    "start_time": "2022-01-15T13:06:58.722Z"
   },
   {
    "duration": -7098,
    "start_time": "2022-01-15T13:06:58.727Z"
   },
   {
    "duration": -7102,
    "start_time": "2022-01-15T13:06:58.733Z"
   },
   {
    "duration": -7118,
    "start_time": "2022-01-15T13:06:58.750Z"
   },
   {
    "duration": -7123,
    "start_time": "2022-01-15T13:06:58.756Z"
   },
   {
    "duration": 5,
    "start_time": "2022-01-15T13:09:36.805Z"
   },
   {
    "duration": 32,
    "start_time": "2022-01-15T13:09:36.813Z"
   },
   {
    "duration": 5,
    "start_time": "2022-01-15T13:09:36.848Z"
   },
   {
    "duration": 32,
    "start_time": "2022-01-15T13:09:36.856Z"
   },
   {
    "duration": 51,
    "start_time": "2022-01-15T13:09:36.890Z"
   },
   {
    "duration": 27,
    "start_time": "2022-01-15T13:09:36.944Z"
   },
   {
    "duration": 114,
    "start_time": "2022-01-15T13:09:36.975Z"
   },
   {
    "duration": 110,
    "start_time": "2022-01-15T13:09:37.093Z"
   },
   {
    "duration": 71,
    "start_time": "2022-01-15T13:09:37.206Z"
   },
   {
    "duration": 11,
    "start_time": "2022-01-15T13:09:37.280Z"
   },
   {
    "duration": 29,
    "start_time": "2022-01-15T13:09:37.295Z"
   },
   {
    "duration": 14,
    "start_time": "2022-01-15T13:09:37.327Z"
   },
   {
    "duration": 9,
    "start_time": "2022-01-15T13:09:37.343Z"
   },
   {
    "duration": 16,
    "start_time": "2022-01-15T13:09:37.355Z"
   },
   {
    "duration": 56,
    "start_time": "2022-01-15T13:09:37.373Z"
   },
   {
    "duration": 5,
    "start_time": "2022-01-15T13:09:37.431Z"
   },
   {
    "duration": 23,
    "start_time": "2022-01-15T13:09:37.438Z"
   },
   {
    "duration": 17,
    "start_time": "2022-01-15T13:09:37.464Z"
   },
   {
    "duration": 48,
    "start_time": "2022-01-15T13:09:37.486Z"
   },
   {
    "duration": 17,
    "start_time": "2022-01-15T13:09:37.536Z"
   },
   {
    "duration": 20,
    "start_time": "2022-01-15T13:09:37.555Z"
   },
   {
    "duration": 55,
    "start_time": "2022-01-15T13:09:37.577Z"
   },
   {
    "duration": 9,
    "start_time": "2022-01-15T13:09:37.635Z"
   },
   {
    "duration": 20,
    "start_time": "2022-01-15T13:09:37.646Z"
   },
   {
    "duration": 12,
    "start_time": "2022-01-15T13:09:37.668Z"
   },
   {
    "duration": 6,
    "start_time": "2022-01-15T13:09:37.682Z"
   },
   {
    "duration": 31,
    "start_time": "2022-01-15T13:09:37.723Z"
   },
   {
    "duration": 21,
    "start_time": "2022-01-15T13:09:37.757Z"
   },
   {
    "duration": 56,
    "start_time": "2022-01-15T13:09:37.781Z"
   },
   {
    "duration": 22,
    "start_time": "2022-01-15T13:09:37.840Z"
   },
   {
    "duration": 25,
    "start_time": "2022-01-15T13:09:37.865Z"
   },
   {
    "duration": 41,
    "start_time": "2022-01-15T13:09:37.892Z"
   },
   {
    "duration": 22,
    "start_time": "2022-01-15T13:09:37.936Z"
   },
   {
    "duration": 12,
    "start_time": "2022-01-15T13:09:37.961Z"
   },
   {
    "duration": 379,
    "start_time": "2022-01-15T19:03:13.736Z"
   },
   {
    "duration": 327,
    "start_time": "2022-01-15T19:03:33.673Z"
   },
   {
    "duration": 305,
    "start_time": "2022-01-15T19:05:41.626Z"
   },
   {
    "duration": 318,
    "start_time": "2022-01-15T19:06:01.918Z"
   },
   {
    "duration": 336,
    "start_time": "2022-01-15T19:06:15.149Z"
   },
   {
    "duration": 851,
    "start_time": "2022-01-15T19:06:26.325Z"
   },
   {
    "duration": 230,
    "start_time": "2022-01-15T19:06:30.134Z"
   },
   {
    "duration": 26,
    "start_time": "2022-01-15T19:06:33.243Z"
   },
   {
    "duration": 35,
    "start_time": "2022-01-15T19:06:40.050Z"
   },
   {
    "duration": 6,
    "start_time": "2022-01-15T19:06:52.207Z"
   },
   {
    "duration": 6,
    "start_time": "2022-01-15T19:07:18.660Z"
   },
   {
    "duration": 425,
    "start_time": "2022-01-15T19:10:12.407Z"
   },
   {
    "duration": 361,
    "start_time": "2022-01-15T19:10:25.658Z"
   },
   {
    "duration": 335,
    "start_time": "2022-01-15T19:10:29.341Z"
   },
   {
    "duration": 324,
    "start_time": "2022-01-15T19:11:53.651Z"
   },
   {
    "duration": 6,
    "start_time": "2022-01-15T19:12:34.052Z"
   },
   {
    "duration": 37,
    "start_time": "2022-01-15T19:12:37.184Z"
   },
   {
    "duration": 9421,
    "start_time": "2022-01-15T19:12:56.073Z"
   },
   {
    "duration": -2337,
    "start_time": "2022-01-15T19:13:07.835Z"
   },
   {
    "duration": 4,
    "start_time": "2022-01-15T19:13:14.408Z"
   },
   {
    "duration": 188,
    "start_time": "2022-01-15T19:13:24.970Z"
   },
   {
    "duration": 35,
    "start_time": "2022-01-15T19:13:31.734Z"
   },
   {
    "duration": 6,
    "start_time": "2022-01-15T19:13:41.403Z"
   },
   {
    "duration": 31,
    "start_time": "2022-01-15T19:13:49.243Z"
   },
   {
    "duration": 5,
    "start_time": "2022-01-15T19:13:52.509Z"
   },
   {
    "duration": 26,
    "start_time": "2022-01-15T19:14:25.856Z"
   },
   {
    "duration": 33,
    "start_time": "2022-01-15T19:14:29.426Z"
   },
   {
    "duration": 85,
    "start_time": "2022-01-15T19:14:37.605Z"
   },
   {
    "duration": 95,
    "start_time": "2022-01-15T19:14:41.500Z"
   },
   {
    "duration": 79,
    "start_time": "2022-01-15T19:14:45.244Z"
   },
   {
    "duration": 314,
    "start_time": "2022-01-15T19:14:49.756Z"
   },
   {
    "duration": 10,
    "start_time": "2022-01-15T19:15:00.752Z"
   },
   {
    "duration": 10,
    "start_time": "2022-01-15T19:18:53.376Z"
   },
   {
    "duration": 5,
    "start_time": "2022-01-15T19:19:49.474Z"
   },
   {
    "duration": 7,
    "start_time": "2022-01-15T19:20:58.954Z"
   },
   {
    "duration": 5,
    "start_time": "2022-01-15T19:21:06.334Z"
   },
   {
    "duration": 15,
    "start_time": "2022-01-15T19:21:12.136Z"
   },
   {
    "duration": 13,
    "start_time": "2022-01-15T19:21:14.893Z"
   },
   {
    "duration": 649,
    "start_time": "2022-01-15T19:21:19.032Z"
   },
   {
    "duration": 6,
    "start_time": "2022-01-15T19:21:46.227Z"
   },
   {
    "duration": 34,
    "start_time": "2022-01-15T19:21:54.426Z"
   },
   {
    "duration": 35,
    "start_time": "2022-01-15T19:23:21.446Z"
   },
   {
    "duration": 13,
    "start_time": "2022-01-15T19:23:25.996Z"
   },
   {
    "duration": 437,
    "start_time": "2022-01-15T19:24:02.436Z"
   },
   {
    "duration": 351,
    "start_time": "2022-01-15T19:24:08.024Z"
   },
   {
    "duration": 47,
    "start_time": "2022-01-15T19:24:48.297Z"
   },
   {
    "duration": 33,
    "start_time": "2022-01-15T19:26:14.163Z"
   },
   {
    "duration": 12,
    "start_time": "2022-01-15T19:26:18.727Z"
   },
   {
    "duration": 357,
    "start_time": "2022-01-15T19:28:29.296Z"
   },
   {
    "duration": 350,
    "start_time": "2022-01-15T19:29:07.358Z"
   },
   {
    "duration": 58,
    "start_time": "2022-01-15T19:29:31.644Z"
   },
   {
    "duration": 59,
    "start_time": "2022-01-15T19:29:43.998Z"
   },
   {
    "duration": 59,
    "start_time": "2022-01-15T19:30:22.073Z"
   },
   {
    "duration": 6,
    "start_time": "2022-01-15T19:32:17.404Z"
   },
   {
    "duration": 621,
    "start_time": "2022-01-15T19:32:23.782Z"
   },
   {
    "duration": 6,
    "start_time": "2022-01-15T19:33:01.315Z"
   },
   {
    "duration": 6,
    "start_time": "2022-01-15T19:33:04.030Z"
   },
   {
    "duration": 668,
    "start_time": "2022-01-15T19:33:09.438Z"
   },
   {
    "duration": 6,
    "start_time": "2022-01-15T19:44:56.741Z"
   },
   {
    "duration": -1777,
    "start_time": "2022-01-15T19:45:13.016Z"
   },
   {
    "duration": -1790,
    "start_time": "2022-01-15T19:45:13.031Z"
   },
   {
    "duration": 10522,
    "start_time": "2022-01-15T19:45:14.096Z"
   },
   {
    "duration": -1791,
    "start_time": "2022-01-15T19:45:26.412Z"
   },
   {
    "duration": 5,
    "start_time": "2022-01-15T19:45:39.392Z"
   },
   {
    "duration": 10558,
    "start_time": "2022-01-15T19:45:44.923Z"
   },
   {
    "duration": -1801,
    "start_time": "2022-01-15T19:45:57.285Z"
   },
   {
    "duration": 6,
    "start_time": "2022-01-15T19:47:35.727Z"
   },
   {
    "duration": 937,
    "start_time": "2022-01-15T19:47:39.246Z"
   },
   {
    "duration": 844,
    "start_time": "2022-01-15T19:47:40.744Z"
   },
   {
    "duration": 8,
    "start_time": "2022-01-15T19:52:17.672Z"
   },
   {
    "duration": 25,
    "start_time": "2022-01-15T19:52:20.873Z"
   },
   {
    "duration": 18,
    "start_time": "2022-01-15T19:52:27.916Z"
   },
   {
    "duration": 37,
    "start_time": "2022-01-15T19:52:30.165Z"
   },
   {
    "duration": 16,
    "start_time": "2022-01-15T19:52:32.325Z"
   },
   {
    "duration": 617,
    "start_time": "2022-01-16T10:29:20.151Z"
   },
   {
    "duration": 134,
    "start_time": "2022-01-16T10:29:20.770Z"
   },
   {
    "duration": 15,
    "start_time": "2022-01-16T10:29:20.906Z"
   },
   {
    "duration": 28,
    "start_time": "2022-01-16T10:29:20.923Z"
   },
   {
    "duration": 4,
    "start_time": "2022-01-16T10:29:20.960Z"
   },
   {
    "duration": 24,
    "start_time": "2022-01-16T10:29:20.965Z"
   },
   {
    "duration": 4,
    "start_time": "2022-01-16T10:29:20.991Z"
   },
   {
    "duration": 25,
    "start_time": "2022-01-16T10:29:20.997Z"
   },
   {
    "duration": 38,
    "start_time": "2022-01-16T10:29:21.025Z"
   },
   {
    "duration": 27,
    "start_time": "2022-01-16T10:29:21.064Z"
   },
   {
    "duration": 72,
    "start_time": "2022-01-16T10:29:21.092Z"
   },
   {
    "duration": 69,
    "start_time": "2022-01-16T10:29:21.166Z"
   },
   {
    "duration": 64,
    "start_time": "2022-01-16T10:29:21.237Z"
   },
   {
    "duration": 42,
    "start_time": "2022-01-16T10:29:21.303Z"
   },
   {
    "duration": 15,
    "start_time": "2022-01-16T10:29:21.346Z"
   },
   {
    "duration": 14,
    "start_time": "2022-01-16T10:29:21.363Z"
   },
   {
    "duration": 40,
    "start_time": "2022-01-16T10:29:21.379Z"
   },
   {
    "duration": 11,
    "start_time": "2022-01-16T10:29:21.421Z"
   },
   {
    "duration": 30,
    "start_time": "2022-01-16T10:29:21.434Z"
   },
   {
    "duration": 3,
    "start_time": "2022-01-16T10:29:21.466Z"
   },
   {
    "duration": 21,
    "start_time": "2022-01-16T10:29:21.471Z"
   },
   {
    "duration": 15,
    "start_time": "2022-01-16T10:29:21.494Z"
   },
   {
    "duration": 14,
    "start_time": "2022-01-16T10:29:21.512Z"
   },
   {
    "duration": 43,
    "start_time": "2022-01-16T10:29:21.528Z"
   },
   {
    "duration": 16,
    "start_time": "2022-01-16T10:29:21.573Z"
   },
   {
    "duration": 14,
    "start_time": "2022-01-16T10:29:21.591Z"
   },
   {
    "duration": 11,
    "start_time": "2022-01-16T10:29:21.606Z"
   },
   {
    "duration": 14,
    "start_time": "2022-01-16T10:29:21.619Z"
   },
   {
    "duration": 30,
    "start_time": "2022-01-16T10:29:21.635Z"
   },
   {
    "duration": 3,
    "start_time": "2022-01-16T10:29:21.667Z"
   },
   {
    "duration": 24,
    "start_time": "2022-01-16T10:29:21.672Z"
   },
   {
    "duration": 12,
    "start_time": "2022-01-16T10:29:21.698Z"
   },
   {
    "duration": 16,
    "start_time": "2022-01-16T10:29:21.712Z"
   },
   {
    "duration": 41,
    "start_time": "2022-01-16T10:29:21.730Z"
   },
   {
    "duration": 311,
    "start_time": "2022-01-16T10:29:21.773Z"
   },
   {
    "duration": -48,
    "start_time": "2022-01-16T10:29:22.134Z"
   },
   {
    "duration": -51,
    "start_time": "2022-01-16T10:29:22.138Z"
   },
   {
    "duration": -54,
    "start_time": "2022-01-16T10:29:22.142Z"
   },
   {
    "duration": 617,
    "start_time": "2022-01-16T10:30:05.121Z"
   },
   {
    "duration": 141,
    "start_time": "2022-01-16T10:30:05.740Z"
   },
   {
    "duration": 16,
    "start_time": "2022-01-16T10:30:05.883Z"
   },
   {
    "duration": 26,
    "start_time": "2022-01-16T10:30:05.901Z"
   },
   {
    "duration": 6,
    "start_time": "2022-01-16T10:30:05.929Z"
   },
   {
    "duration": 39,
    "start_time": "2022-01-16T10:30:05.937Z"
   },
   {
    "duration": 10,
    "start_time": "2022-01-16T10:30:05.978Z"
   },
   {
    "duration": 33,
    "start_time": "2022-01-16T10:30:05.989Z"
   },
   {
    "duration": 31,
    "start_time": "2022-01-16T10:30:06.024Z"
   },
   {
    "duration": 24,
    "start_time": "2022-01-16T10:30:06.057Z"
   },
   {
    "duration": 71,
    "start_time": "2022-01-16T10:30:06.083Z"
   },
   {
    "duration": 77,
    "start_time": "2022-01-16T10:30:06.156Z"
   },
   {
    "duration": 73,
    "start_time": "2022-01-16T10:30:06.234Z"
   },
   {
    "duration": 56,
    "start_time": "2022-01-16T10:30:06.310Z"
   },
   {
    "duration": 3,
    "start_time": "2022-01-16T10:30:06.368Z"
   },
   {
    "duration": 11,
    "start_time": "2022-01-16T10:30:06.373Z"
   },
   {
    "duration": 43,
    "start_time": "2022-01-16T10:30:06.387Z"
   },
   {
    "duration": 36,
    "start_time": "2022-01-16T10:30:06.431Z"
   },
   {
    "duration": 12,
    "start_time": "2022-01-16T10:30:06.468Z"
   },
   {
    "duration": 5,
    "start_time": "2022-01-16T10:30:06.481Z"
   },
   {
    "duration": 27,
    "start_time": "2022-01-16T10:30:06.488Z"
   },
   {
    "duration": 16,
    "start_time": "2022-01-16T10:30:06.517Z"
   },
   {
    "duration": 17,
    "start_time": "2022-01-16T10:30:06.561Z"
   },
   {
    "duration": 15,
    "start_time": "2022-01-16T10:30:06.580Z"
   },
   {
    "duration": 18,
    "start_time": "2022-01-16T10:30:06.597Z"
   },
   {
    "duration": 49,
    "start_time": "2022-01-16T10:30:06.617Z"
   },
   {
    "duration": 7,
    "start_time": "2022-01-16T10:30:06.669Z"
   },
   {
    "duration": 20,
    "start_time": "2022-01-16T10:30:06.677Z"
   },
   {
    "duration": 9,
    "start_time": "2022-01-16T10:30:06.699Z"
   },
   {
    "duration": 4,
    "start_time": "2022-01-16T10:30:06.710Z"
   },
   {
    "duration": 25,
    "start_time": "2022-01-16T10:30:06.716Z"
   },
   {
    "duration": 15,
    "start_time": "2022-01-16T10:30:06.761Z"
   },
   {
    "duration": 19,
    "start_time": "2022-01-16T10:30:06.778Z"
   },
   {
    "duration": 14,
    "start_time": "2022-01-16T10:30:06.799Z"
   },
   {
    "duration": 8,
    "start_time": "2022-01-16T10:30:06.816Z"
   },
   {
    "duration": 5,
    "start_time": "2022-01-16T10:30:06.860Z"
   },
   {
    "duration": 31,
    "start_time": "2022-01-16T10:30:06.868Z"
   },
   {
    "duration": 30,
    "start_time": "2022-01-16T10:30:06.901Z"
   }
  ],
  "colab": {
   "collapsed_sections": [
    "E0vqbgi9ay0H",
    "VUC88oWjTJw2"
   ],
   "name": "yandex_music_project_2021.2.ipynb",
   "provenance": []
  },
  "kernelspec": {
   "display_name": "Python 3 (ipykernel)",
   "language": "python",
   "name": "python3"
  },
  "language_info": {
   "codemirror_mode": {
    "name": "ipython",
    "version": 3
   },
   "file_extension": ".py",
   "mimetype": "text/x-python",
   "name": "python",
   "nbconvert_exporter": "python",
   "pygments_lexer": "ipython3",
   "version": "3.9.7"
  },
  "toc": {
   "base_numbering": 1,
   "nav_menu": {},
   "number_sections": true,
   "sideBar": true,
   "skip_h1_title": true,
   "title_cell": "Table of Contents",
   "title_sidebar": "Contents",
   "toc_cell": false,
   "toc_position": {
    "height": "calc(100% - 180px)",
    "left": "10px",
    "top": "150px",
    "width": "263.252px"
   },
   "toc_section_display": true,
   "toc_window_display": false
  }
 },
 "nbformat": 4,
 "nbformat_minor": 1
}
